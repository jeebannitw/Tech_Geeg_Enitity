{
 "cells": [
  {
   "cell_type": "code",
   "execution_count": 1,
   "metadata": {
    "collapsed": false
   },
   "outputs": [],
   "source": [
    "import os\n",
    "path = '/Users/jeebanswain/Documents/Kaggle Challenges/Tech Geek Entity Recog'\n",
    "os.chdir(path)\n",
    "#os.listdir(path)"
   ]
  },
  {
   "cell_type": "code",
   "execution_count": 2,
   "metadata": {
    "collapsed": true
   },
   "outputs": [],
   "source": [
    "import pandas as pd\n",
    "import numpy as np\n",
    "\n",
    "pd.options.display.max_colwidth=2000\n",
    "pd.options.display.max_rows= 1300"
   ]
  },
  {
   "cell_type": "code",
   "execution_count": 3,
   "metadata": {
    "collapsed": false
   },
   "outputs": [],
   "source": [
    "# Reading the files\n",
    "train = pd.read_csv('train.csv')\n",
    "test = pd.read_csv('test.csv')\n",
    "samplesubmission = pd.read_csv('sample-submission.csv')"
   ]
  },
  {
   "cell_type": "code",
   "execution_count": 4,
   "metadata": {
    "collapsed": false
   },
   "outputs": [
    {
     "name": "stdout",
     "output_type": "stream",
     "text": [
      "(9850, 3)\n",
      "(21070, 2)\n",
      "(21070, 2)\n"
     ]
    }
   ],
   "source": [
    "print train.shape\n",
    "print test.shape\n",
    "print samplesubmission.shape\n",
    "#train.head()"
   ]
  },
  {
   "cell_type": "code",
   "execution_count": null,
   "metadata": {
    "collapsed": false
   },
   "outputs": [],
   "source": []
  },
  {
   "cell_type": "code",
   "execution_count": 5,
   "metadata": {
    "collapsed": false
   },
   "outputs": [
    {
     "name": "stdout",
     "output_type": "stream",
     "text": [
      "1311\n",
      "1.19796954315\n"
     ]
    }
   ],
   "source": [
    "# Total Unq strings\n",
    "print len(train.StringToExtract.unique()) ##\n",
    "dd = pd.DataFrame(train.StringToExtract.value_counts())\n",
    "dd1 = dd.sort()\n",
    "#sum(dd1[0:55][0])\n",
    "# ddlsql43 = 3817 outof 9850\n",
    "#print 3817.00/9850.00\n",
    "print 100*118.00/9850.00 "
   ]
  },
  {
   "cell_type": "code",
   "execution_count": 6,
   "metadata": {
    "collapsed": false
   },
   "outputs": [],
   "source": [
    "## replace . by space \n",
    "import re\n",
    "train['processed_desc'] = train.description.apply(lambda x : x.replace('.',' '))\n",
    "train['processed_desc'] = train.processed_desc.apply(lambda x : x.replace(':',' '))\n",
    "train['processed_desc'] = train.processed_desc.apply(lambda x : x.replace('\"',' '))\n",
    "train['processed_desc'] = train.processed_desc.apply(lambda x : x.replace('/',' '))\n",
    "train['processed_desc'] = train.processed_desc.apply(lambda x : x.replace('[',' '))\n",
    "train['processed_desc'] = train.processed_desc.apply(lambda x : x.replace('(',' '))\n",
    "train['processed_desc'] = train.processed_desc.apply(lambda x : x.replace(\"\\\\r\",' '))\n",
    "train['processed_desc'] = train.processed_desc.apply(lambda x : x.replace(\"\\\\n\",' '))\n",
    "train['processed_desc'] = train.processed_desc.apply(lambda x : x.replace(\"'\",' '))\n",
    "#train['processed_desc'] = train.processed_desc.apply(lambda x : x.replace(\"-\",'_'))\n",
    "\n",
    "test['processed_desc'] = test.description.apply(lambda x : x.replace('.',' '))\n",
    "test['processed_desc'] = test.processed_desc.apply(lambda x : x.replace(':',' '))\n",
    "test['processed_desc'] = test.processed_desc.apply(lambda x : x.replace('\"',' '))\n",
    "test['processed_desc'] = test.processed_desc.apply(lambda x : x.replace('/',' '))\n",
    "#test['processed_desc'] = test.processed_desc.apply(lambda x : x.replace('\\\\',' '))\n",
    "test['processed_desc'] = test.processed_desc.apply(lambda x : x.replace('[',' '))\n",
    "test['processed_desc'] = test.processed_desc.apply(lambda x : x.replace('(',' '))\n",
    "test['processed_desc'] = test.processed_desc.apply(lambda x : x.replace(\"'\",' '))\n",
    "#test['processed_desc'] = test.processed_desc.apply(lambda x : x.replace(\"-\",'_'))\n",
    "#train['ddl_keywords'] = train.description.apply(lambda x : str(list(set(re.findall(r'\\bddlsql\\w+', x)))))"
   ]
  },
  {
   "cell_type": "code",
   "execution_count": 7,
   "metadata": {
    "collapsed": false
   },
   "outputs": [],
   "source": [
    "dd = pd.DataFrame(train.StringToExtract.value_counts())\n",
    "dd1 = dd.sort()\n",
    "all_ips = dd1.index[0:57].tolist()\n",
    "\n",
    "def get_ip(x):\n",
    "    ip = re.findall( r'[0-9]+(?:\\.[0-9]+){3}', x )\n",
    "    if(len(ip)>0):\n",
    "        ip=ip[0]\n",
    "        \n",
    "        return ip      \n",
    "    else:\n",
    "        return 'not an ip'\n",
    "\n",
    "    \n",
    "train['present_ip'] = train.description.apply(get_ip)\n",
    "test['present_ip'] = test.description.apply(get_ip)\n",
    "\n",
    "def is_ip(x):\n",
    "    if(x in (all_ips)):\n",
    "        return 1\n",
    "    else:\n",
    "        return 0\n",
    "\n",
    "train['is_ip'] = train.StringToExtract.apply(is_ip )\n",
    "#test['is_ip'] = test.StringToExtract.apply(is_ip)"
   ]
  },
  {
   "cell_type": "code",
   "execution_count": 10,
   "metadata": {
    "collapsed": false
   },
   "outputs": [],
   "source": [
    "#in_correct_category ==\n",
    "#print 100*test[test.is_ip==1].shape[0]/21070.0\n",
    "#print 100*test[test.final_string=='will'].shape[0]/21070.0\n",
    "#print 100*test[test.final_string=='service'].shape[0]/21070.0\n",
    "#print 100*test[test.final_string=='internal'].shape[0]/21070.0\n",
    "#test.shape"
   ]
  },
  {
   "cell_type": "code",
   "execution_count": null,
   "metadata": {
    "collapsed": true
   },
   "outputs": [],
   "source": [
    "def get_service_entity(row):\n",
    "    indx_1 = row.processed_desc.find('criticalservicedown\\r\\r\\n service')\n",
    "    indx_2 = row.processed_desc.find('criticalservicedown\\r\\r\\nseverity')\n",
    "    \n",
    "    indx_3 = row.processed_desc.find('\\r\\r\\ncisco prime lm admin')\n",
    "    indx_4 = row.processed_desc.find('cisco callnageram cisco ip phone')\n",
    "    \n",
    "    #ip_in_ips = row.present_ip in (all_ips)\n",
    "    \n",
    "    if( ((indx_1<>-1) | (indx_2<>-1))  ):\n",
    "        if(((indx_3<>-1) | (indx_4<>-1))):\n",
    "            return 0\n",
    "        else:\n",
    "            return 1\n",
    "    else:\n",
    "        return 0\n",
    "    \n",
    "train['service_keywords'] = train.apply(get_service_entity,axis=1)\n",
    "test['service_keywords'] = test.apply(get_service_entity,axis=1)"
   ]
  },
  {
   "cell_type": "code",
   "execution_count": null,
   "metadata": {
    "collapsed": true
   },
   "outputs": [],
   "source": [
    "#print error_all[error_all.is_ip==1].shape\n",
    "#error_all.StringToExtract.value_counts()\n",
    "#error_all[error_all.is_ip==1][['StringToExtract','description']]\n",
    "\n",
    "def ip_keywords(row):\n",
    "    indx_1 = row.processed_desc.find('ddl-oionr-01')\n",
    "    indx_2 = row.processed_desc.find('ddl-msg-mgmt03')\n",
    "    indx_3 = row.processed_desc.find('esc-sim-01')\n",
    "    indx_4 = row.processed_desc.find('ddl-sim-02')\n",
    "    indx_5 = row.processed_desc.find('was-sanmgt-01')\n",
    "    indx_6 = row.processed_desc.find('dimensiondataservices')\n",
    "    \n",
    "    ip_in_ips = row.present_ip in (all_ips)\n",
    "    if(( (indx_1<>-1)  | (indx_2<>-1) | (indx_3<>-1) |\n",
    "        (indx_4<>-1) | (indx_5<>-1) ) & (ip_in_ips == True) ):\n",
    "        \n",
    "        if( (indx_6<>-1)):\n",
    "            return 0\n",
    "        else:\n",
    "            return 1\n",
    "    #if((row.present_ip<>'not an ip') & (row.ddl_3_keywords in(['internal','error'])) ):\n",
    "        #& (row.ddl_3_keywords in(['internal','error','rom-ug-dsw1-01'])) ):\n",
    "        #if( (ip_in_ips) ):\n",
    "        return 1\n",
    "    else:\n",
    "        return 0\n",
    "    \n",
    "train['ip_keywords'] = train.apply(ip_keywords,axis=1)\n",
    "test['ip_keywords'] = test.apply(ip_keywords,axis=1)\n",
    "print sum(train['ip_keywords'])"
   ]
  },
  {
   "cell_type": "code",
   "execution_count": 16,
   "metadata": {
    "collapsed": false
   },
   "outputs": [
    {
     "name": "stdout",
     "output_type": "stream",
     "text": [
      "(5, 13)\n",
      "(9, 11)\n"
     ]
    }
   ],
   "source": [
    "def get_all_internal(x):\n",
    "    indx1 = x.find('zone internal')\n",
    "    indx2 = x.find('domain:internal')\n",
    "    if((indx1<>-1) | (indx2<>-1) ):\n",
    "        return 1\n",
    "    else:\n",
    "        return 0\n",
    "    \n",
    "train['is_internal'] = train.description.apply(get_all_internal)\n",
    "test['is_internal'] = test.description.apply(get_all_internal)\n",
    "print train[train.is_internal==1].shape\n",
    "print test[test.is_internal==1].shape"
   ]
  },
  {
   "cell_type": "code",
   "execution_count": 18,
   "metadata": {
    "collapsed": false
   },
   "outputs": [
    {
     "name": "stdout",
     "output_type": "stream",
     "text": [
      "9845\n",
      "0.999492385787\n",
      "(5, 14)\n",
      "(0, 14)\n",
      "1.0\n"
     ]
    }
   ],
   "source": [
    "\n",
    "#train.head()\n",
    "prefixes = tuple(['ddl-','ddls','esc-','nyc','fra-',\n",
    "                  'hkg','ams-','asi-','au-','del-','esc-',\n",
    "                  'hdr-','hkg-','ldv-','par-','pra-','rom-','wcms-'\n",
    "                 'lpp-','was-','lpdb','muc-','mos-','esap',\n",
    "                 'syd-','war-','hkgs','bru-','escs','buc-','mad-',\n",
    "                 'ist-','lux-','bei-','shn-','asi-','per-','lpld',\n",
    "                 'cas-','sin-','esbd','bar-','ddl_','bkk-','sap-',\n",
    "                 'mil-','dub-','us-','dus-','doh-','cn-','eur-',\n",
    "                 'ind-','jp-','tok-','dus_','doh_','ce_','nje-',\n",
    "                 'aud-','lst-','riy-'])\n",
    "\n",
    "\n",
    "prefixes = ['bru_', 'dus-', 'ldv-', 'nyc-', 'mos-', 'bei-', 'fra-', 'del-',\n",
    "       'lpdb', 'lpp-', 'dub-', 'war-', 'hkgs', 'hdr-', 'eur-', 'shn-',\n",
    "       'ce_', 'aud-', 'riy-', 'buc-', 'cas-', 'esap', 'wcms-lpp-', 'mad-',\n",
    "       'blr-', 'lpld', 'ddl-', 'hkg-','ind-', 'nyc', 'rom-', 'par-',\n",
    "       'tok-', 'hkg_', 'esbd', 'doh_', 'jp-', 'ddl_', 'rom_', 'doh-',\n",
    "       'esc-', 'asi-', 'sin_', 'bkk-', 'seo-', 'was-', 'buc_', 'riy_',\n",
    "       'lst-', 'mil-', 'bar-', 'hkg', 'escs', 'sap-', 'ams-', 'cn-',\n",
    "       'syd-', 'nje-', 'lux-', 'us-', 'ddls', 'au-', 'ist-', 'per-',\n",
    "       'dus_', 'bru-', 'sin-', 'nyc_', 'muc-', 'fra_', 'mos_', 'bei_',\n",
    "       'pra-','grdp','esc-top-01']\n",
    "\n",
    "\n",
    "\n",
    "all_entities = list(train.StringToExtract)\n",
    "\n",
    "\n",
    "def pattern_matching(x):\n",
    "    \n",
    "    f1 = re.findall('([^ \\r\\n]+) controlnet([\\r\\n]| |$)', x, re.IGNORECASE)\n",
    "    f2 = re.findall('([^ \\r\\n]+) intranet([\\r\\n]| |$)', x, re.IGNORECASE)\n",
    "    f3 = re.findall('([^ \\r\\n]+) internal([\\r\\n]| |$)', x, re.IGNORECASE)\n",
    "    ip = re.findall( r'[0-9]+(?:\\.[0-9]+){3}', x )\n",
    "\n",
    "    if(len(ip)>0):\n",
    "        ip = list(ip[0] + '  roalswinds')\n",
    "    \n",
    "    \n",
    "    f = f1+f2+f3+ip\n",
    "    \n",
    "    new_prefix = []\n",
    "    \n",
    "    for result in f:\n",
    "        new_prefix.append(result[0])\n",
    "        \n",
    "    \n",
    "    prefixes_1 =  prefixes + new_prefix\n",
    "    \n",
    "    \n",
    "    entity = [ t for t in x.split() if ( (t.startswith(tuple(prefixes_1))) and (t in all_entities) )]\n",
    "    \n",
    "    #entity = set((entity))\n",
    "    #entity = list( entity & all_entities)\n",
    "   \n",
    "    if(len(entity)>0):\n",
    "        entity = list((entity))[0] \n",
    "    else:\n",
    "        entity = 'not found'\n",
    "        #entity = [ t for t in x.split() if (t.count('-')==2)][0]\n",
    "\n",
    "    return entity\n",
    "\n",
    "error_prefix_1 = ['esc-top-01','alumni','hkg-mb-13','hdr-mb-15','epinux10',\n",
    "               'gpmszmaas_ptl2','lsldap01','lsldap02','lpap03','lpap02z0','lpap02z1',\n",
    "               'serverfqdn=ddl-mb-08','ddl-mb-02','ddl-dc-03','esdb05d0','lpap02','lpap01',\n",
    "               'serverfqdn=hkg-mb-14','dub-prn-01','esdb05','fra-dc-03',\n",
    "               'hyppv11','was-mb-11','esdb03','sgddl_esc-spr1fast-','lpinvm01','lpmg01',\n",
    "               'ddl-edg-v02','fra-dcr-02','gpmszic3','americas_was_vtl_adic_scalar_i2k_lt4_l01',\n",
    "               'time-u','nyc-spr2web-01','dub-dc-03','esc-mb-05','lsldap05','nyc-mb-09','americas_was_adic',\n",
    "                'hkg-sql-cl1v01','lpinux10','asia_hkp_vtl_adic_scalar_i2k_lt4_l01','gpmszfd1','hkg-ev-14',\n",
    "                'esc-ev-11','au-per-06a-stcp-01','ldtpocs_ddldon','rom-ug-dsw1-01','buc_dsw-01','esc-ev-10',\n",
    "                'war-05-dsw-02','au-per-06a-stap-01','blr-nwa-sw2','buc_dsw-02','war-04-dsw-01',\n",
    "                'hkg-dcr-02','onlineservices','dc=internal'       \n",
    "               ]\n",
    "\n",
    "error_prefix_2 = ['error','author','connect','internal']\n",
    "\n",
    "error_prefix_0 = ['serverfqdn=hkg-mb-14.internal','hkg-mb-14.internal','ddl-dc-06.internal',\n",
    "                 'hdr-mb-16.internal','nyc-bes-29.internal','nyc-bes-30.internal','hkg-bes-27.internal',\n",
    "                  'bru-dc-02.internal','esc-mb-03.internal','esc-mb-04.internal','ddl-bnt-01.internal'\n",
    "                  ,'ddl-ch-v03.internal','dub-dc-03.internal','hkg-ev-14.internal','fra-dcr-02.ecnahcdroffilc',\n",
    "                  'dc=internal.ecnahcdroffilc.net','time.pm.ecnahcdroffilc.com','spr1.intranet.ecnahcdroffilc',\n",
    "                  'ddl-dc-01.internal','ddl-sql-cl11an1.internal','hdr-mb-15.internal','esc-bes-20.internal','bkk-dc-02.internal'\n",
    "                 ]\n",
    "\n",
    "def errored_pattern_0(x):\n",
    "    x = x.replace(\"//\",' ')\n",
    "    x = x.replace(\",\",' ')\n",
    "    x = x.replace(\"/\",' ')\n",
    "    x =x.replace(\"'\",'')\n",
    "    x =x.replace(\":\",' ')\n",
    "    x =x.replace(\";\",' ')\n",
    "   \n",
    "    \n",
    "    new_prefix = []\n",
    "    f1 = re.findall('([^ \\r\\n]+) internal.ecnahcdroffilc.net([\\r\\n]| |$)', x, re.IGNORECASE)\n",
    "    f2 = re.findall('([^ \\r\\n]+) .ecnahcdroffilc.com([\\r\\n]| |$)', x, re.IGNORECASE)\n",
    "    f3 = re.findall('([^ \\r\\n]+) .internal.ecnahcdroffilc.net([\\r\\n]| |$)', x, re.IGNORECASE)\n",
    "    f_new = f1+f2+f3\n",
    "\n",
    "    \n",
    "    for result in f_new:\n",
    "        new_prefix.append(result[0])  \n",
    "    \n",
    "    error_prefix_0_1 =  error_prefix_0 + new_prefix\n",
    "    \n",
    "    entity = [ t for t in x.split() if ((t.startswith(tuple(error_prefix_0_1))) )  ]\n",
    "    \n",
    "    entities = []\n",
    "    if(len(entity)>0):\n",
    "        #entity = entity[0]\n",
    "        #entity = entity.split(';')\n",
    "        #entity = entity.replace('.',' ')[0]\n",
    "        #entity = entity.replace(\"'\",' ')\n",
    "        for ent in entity:\n",
    "            ent = ent.replace('internal','')\n",
    "            ent = ent.replace('ecnahcdroffilc','')\n",
    "            ent = ent.replace('net','')\n",
    "            ent = ent.replace(\".\",'')\n",
    "            ent = ent.replace(\"dc=\",'dc=internal')\n",
    "            ent = ent.replace(\"pm\",'')\n",
    "            ent = ent.replace(\"com\",'')\n",
    "            ent = ent.replace(\"intra\",'')\n",
    "            ent = ent.replace(\"80\",'')\n",
    "            entities.append(ent)\n",
    "        #entity = entity.strip()\n",
    "        \n",
    "        entity = [entity for entity in entities if (entity in all_entities)]\n",
    "        if(len(entity)>0):\n",
    "            entity =entity[0]\n",
    "        else:\n",
    "            entity = 'not found'\n",
    "            \n",
    "    else:\n",
    "        entity = 'not found'\n",
    "    \n",
    "    return entity\n",
    "\n",
    "\n",
    "def errored_pattern_1(x):\n",
    "    entity = [ t for t in x.split() if ((t.startswith(tuple(error_prefix_1))) and (t in all_entities))]\n",
    "    if(len(entity)>0):\n",
    "        #entity = max(entity,key=entity.count)\n",
    "        entity = entity[0]\n",
    "        #entity = entity.replace(' internal','')\n",
    "    else:\n",
    "        entity = 'not found'\n",
    "        \n",
    "        \n",
    "    return entity\n",
    "\n",
    "def errored_pattern_2(x):\n",
    "    entity = [ t for t in x.split() if ((t.startswith(tuple(error_prefix_2))) and (t in all_entities))]\n",
    "    \n",
    "    if(len(entity)>0):\n",
    "        entity = entity[0]\n",
    "    else:\n",
    "        entity = 'not found'\n",
    "        \n",
    "        \n",
    "    return entity\n",
    "\n",
    "\n",
    "\n",
    "train['service_keywords'] = train.apply(get_service_entity,axis=1)\n",
    "test['service_keywords'] = test.apply(get_service_entity,axis=1)\n",
    "\n",
    "train['ip_keywords'] = train.apply(ip_keywords,axis=1)\n",
    "test['ip_keywords'] = test.apply(ip_keywords,axis=1)\n",
    "\n",
    "\n",
    "\n",
    "train['ddl_0_keywords'] = train.description.apply(errored_pattern_0)\n",
    "train['ddl_1_keywords'] = train.processed_desc.apply(errored_pattern_1)\n",
    "train['ddl_1_keywords'] = np.where(train.ddl_0_keywords=='not found',train.ddl_1_keywords,train.ddl_0_keywords)\n",
    "train['ddl_2_keywords'] = train.processed_desc.apply(pattern_matching)\n",
    "train['ddl_1_keywords'] = np.where(train.ddl_1_keywords=='not found',train.ddl_2_keywords,train.ddl_1_keywords)\n",
    "train['ddl_3_keywords'] = train.processed_desc.apply(errored_pattern_2)\n",
    "train['ddl_1_keywords'] = np.where(train.ddl_1_keywords=='not found',train.ddl_3_keywords,train.ddl_1_keywords)\n",
    "\n",
    "train['ddl_1_keywords'] = train.ddl_1_keywords.apply(lambda x : x.strip())\n",
    "\n",
    "\n",
    "test['ddl_0_keywords'] = test.description.apply(errored_pattern_0)\n",
    "test['ddl_1_keywords'] = test.processed_desc.apply(errored_pattern_1)\n",
    "test['ddl_1_keywords'] = np.where(test.ddl_0_keywords=='not found',test.ddl_1_keywords,test.ddl_0_keywords)\n",
    "test['ddl_2_keywords'] = test.processed_desc.apply(pattern_matching)\n",
    "test['ddl_1_keywords'] = np.where(test.ddl_1_keywords=='not found',test.ddl_2_keywords,test.ddl_1_keywords)\n",
    "test['ddl_3_keywords'] = test.processed_desc.apply(errored_pattern_2)\n",
    "test['ddl_1_keywords'] = np.where(test.ddl_1_keywords=='not found',test.ddl_3_keywords,test.ddl_1_keywords)\n",
    "test['ddl_1_keywords'] = test.ddl_1_keywords.apply(lambda x : x.strip())\n",
    "\n",
    "train['is_internal'] = train.description.apply(get_all_internal)\n",
    "test['is_internal'] = test.description.apply(get_all_internal)\n",
    "\n",
    "\n",
    "\n",
    "#train['service_keywords'] = train.apply(get_service_entity,axis=1)\n",
    "#test['service_keywords'] = test.apply(get_service_entity,axis=1)\n",
    "\n",
    "train['ddl_1_keywords'] = np.where( (train.service_keywords==1), 'service',train.ddl_1_keywords )\n",
    "test['ddl_1_keywords'] = np.where(  (test.service_keywords==1), 'service',test.ddl_1_keywords )\n",
    "\n",
    "train['ddl_1_keywords'] = np.where((train.ddl_1_keywords<>'service') & (train.ip_keywords==1), train.present_ip,train.ddl_1_keywords )\n",
    "test['ddl_1_keywords'] = np.where((test.ddl_1_keywords<>'service') & (test.ip_keywords==1), test.present_ip,test.ddl_1_keywords )\n",
    "\n",
    "train['ddl_1_keywords'] = np.where( (train.is_internal==1), 'internal',train.ddl_1_keywords )\n",
    "test['ddl_1_keywords'] = np.where(  (test.is_internal==1), 'internal',test.ddl_1_keywords )\n",
    "\n",
    "\n",
    "train['is_matched'] = np.where(train.StringToExtract==train.ddl_1_keywords,1,0)\n",
    "\n",
    "print sum(np.where(train.StringToExtract==train.ddl_1_keywords,1,0))\n",
    "print train.is_matched.mean()\n",
    "\n",
    "error_all = train[(train.is_matched==0)]\n",
    "print error_all.shape\n",
    "error = train[(train.is_matched==0) & (train.is_ip==0) & (train.StringToExtract<>'service') & (train.StringToExtract<>'will')]\n",
    "#print train[train.StringToExtract=='service'].shape\n",
    "print error.shape\n",
    "print 1-(error.shape[0]/9850.00)"
   ]
  },
  {
   "cell_type": "code",
   "execution_count": 19,
   "metadata": {
    "collapsed": false
   },
   "outputs": [
    {
     "data": {
      "text/html": [
       "<div>\n",
       "<table border=\"1\" class=\"dataframe\">\n",
       "  <thead>\n",
       "    <tr style=\"text-align: right;\">\n",
       "      <th></th>\n",
       "      <th>id</th>\n",
       "      <th>StringToExtract</th>\n",
       "    </tr>\n",
       "  </thead>\n",
       "  <tbody>\n",
       "    <tr>\n",
       "      <th>0</th>\n",
       "      <td>1</td>\n",
       "      <td>frapub2</td>\n",
       "    </tr>\n",
       "    <tr>\n",
       "      <th>1</th>\n",
       "      <td>2</td>\n",
       "      <td>lpap02z1</td>\n",
       "    </tr>\n",
       "    <tr>\n",
       "      <th>2</th>\n",
       "      <td>4</td>\n",
       "      <td>ddlsql43</td>\n",
       "    </tr>\n",
       "    <tr>\n",
       "      <th>3</th>\n",
       "      <td>5</td>\n",
       "      <td>ddl-ubs-28-ca-asw1</td>\n",
       "    </tr>\n",
       "    <tr>\n",
       "      <th>4</th>\n",
       "      <td>6</td>\n",
       "      <td>ddlsql43</td>\n",
       "    </tr>\n",
       "  </tbody>\n",
       "</table>\n",
       "</div>"
      ],
      "text/plain": [
       "   id     StringToExtract\n",
       "0   1             frapub2\n",
       "1   2            lpap02z1\n",
       "2   4            ddlsql43\n",
       "3   5  ddl-ubs-28-ca-asw1\n",
       "4   6            ddlsql43"
      ]
     },
     "execution_count": 19,
     "metadata": {},
     "output_type": "execute_result"
    }
   ],
   "source": [
    "best_sub = pd.read_csv('best_sub.csv')\n",
    "test['final_string'] = np.where(best_sub.StringToExtract.isin(['will','internal']),best_sub.StringToExtract,test.ddl_1_keywords)\n",
    "samplesubmission.StringToExtract = test.ddl_1_keywords\n",
    "samplesubmission.to_csv('Final_with_Regex.csv',index=False)\n",
    "samplesubmission.head()"
   ]
  },
  {
   "cell_type": "code",
   "execution_count": 318,
   "metadata": {
    "collapsed": false
   },
   "outputs": [
    {
     "data": {
      "text/plain": [
       "['nyc-cca4-ddc2',\n",
       " 'psel1661',\n",
       " 'lpp-csidx-01',\n",
       " 'ddl-dml-01',\n",
       " 'hdr-sql-cl3',\n",
       " 'pprg646',\n",
       " 'fra-print-01',\n",
       " 'lsldap05',\n",
       " 'doh_asw1_u',\n",
       " 'pdxb1470']"
      ]
     },
     "execution_count": 318,
     "metadata": {},
     "output_type": "execute_result"
    }
   ],
   "source": [
    "test_entity = set(test.final_string.unique())\n",
    "train_entity = set(train.StringToExtract.unique())\n",
    "diffr_entity = list(train_entity - test_entity)\n",
    "#len(test_entity)\n",
    "#print len(diffr_entity)\n",
    "train_differed_entity = train[train.StringToExtract.isin(diffr_entity)]\n",
    "#train_differed_entity.head()\n",
    "diffr_entity[0:10]"
   ]
  },
  {
   "cell_type": "code",
   "execution_count": 371,
   "metadata": {
    "collapsed": false
   },
   "outputs": [
    {
     "name": "stdout",
     "output_type": "stream",
     "text": [
      "psel1623\n",
      "0\n",
      "hkg-da-11\n",
      "0\n",
      "ddl-sql-cl11dtc\n",
      "0\n",
      "psel1436\n",
      "0\n",
      "mad-dms-01\n",
      "0\n",
      "ddlsql127\n",
      "0\n",
      "ddl-com-120\n",
      "0\n",
      "hdr-bes-27dr\n",
      "0\n",
      "doh-vpns-01\n",
      "0\n",
      "doh-vpns-02\n",
      "0\n",
      "escsql120\n",
      "0\n",
      "par-apps-02\n",
      "0\n",
      "nyc-sql-07\n",
      "0\n",
      "ddl-ubs-03-cb-asw1\n",
      "0\n",
      "del-s1-f3-asw4\n",
      "0\n",
      "time-u\n",
      "0\n",
      "ddl-hpcm-02\n",
      "0\n",
      "ddlsql112\n",
      "0\n",
      "riy-vpns-02\n",
      "0\n",
      "ldv-gpms-03\n",
      "0\n",
      "ddl-wallb-01\n",
      "0\n",
      "ldv-spdcsql-02\n",
      "0\n",
      "dubgen4\n",
      "0\n",
      "esc-ch-v02\n",
      "0\n",
      "ppss\n",
      "1\n",
      "ddlsql16\n",
      "0\n",
      "ddlsql19\n",
      "0\n",
      "ddl-web-01\n",
      "0\n",
      "ddl-web-02\n",
      "0\n",
      "pprg1438\n",
      "0\n",
      "del-s1-f3-r2\n",
      "0\n",
      "ddl-ch-v03\n",
      "1\n",
      "pvsupport\n",
      "0\n",
      "escsqlcca41\n",
      "0\n",
      "ddl-sql-cl11\n",
      "10\n",
      "del-f2-asw1\n",
      "0\n",
      "6.1.7221.0\n",
      "0\n",
      "ddl-ubs-03-cd-asw1\n",
      "0\n",
      "ddlsql23\n",
      "0\n",
      "del-s2-f4-asw4\n",
      "0\n",
      "del-s2-f4-asw5\n",
      "0\n",
      "pra-5th-dsw1-01\n",
      "0\n",
      "del-s2-f4-asw2\n",
      "0\n",
      "del-s2-f4-asw3\n",
      "0\n",
      "fra-dms-03v\n",
      "0\n",
      "hdr-gmm-01\n",
      "0\n",
      "buc-hpcm-01\n",
      "0\n",
      "10.48.103.111\n",
      "0\n",
      "ddl-epo-02\n",
      "0\n"
     ]
    }
   ],
   "source": [
    "for different_entity in diffr_entity[50:100]:\n",
    "    def quick_chk(x):\n",
    "        #different_entity = 'hkg-spr3crwl-02'\n",
    "        indx = x.find(different_entity)\n",
    "        #indx = x.find(different_entity)\n",
    "        if(indx<>-1):\n",
    "            return 1\n",
    "        else:\n",
    "            return 0\n",
    "    train['chk'] = train.processed_desc.apply(quick_chk)\n",
    "    test['chk'] = test.processed_desc.apply(quick_chk)\n",
    "    #print sum(train['chk'])\n",
    "    print different_entity\n",
    "    print sum(test['chk'])\n"
   ]
  },
  {
   "cell_type": "code",
   "execution_count": 372,
   "metadata": {
    "collapsed": false
   },
   "outputs": [
    {
     "name": "stdout",
     "output_type": "stream",
     "text": [
      "ddl-ch-v03\n",
      "1\n"
     ]
    }
   ],
   "source": [
    "different_entity = 'ddl-ch-v03'\n",
    "def quick_chk(x):\n",
    "        indx = x.find(different_entity)\n",
    "        #indx = x.find(different_entity)\n",
    "        if(indx<>-1):\n",
    "            return 1\n",
    "        else:\n",
    "            return 0\n",
    "train['chk'] = train.processed_desc.apply(quick_chk)\n",
    "test['chk'] = test.processed_desc.apply(quick_chk)\n",
    "#print sum(train['chk'])\n",
    "print different_entity\n",
    "print sum(test['chk'])"
   ]
  },
  {
   "cell_type": "code",
   "execution_count": 373,
   "metadata": {
    "collapsed": false
   },
   "outputs": [
    {
     "data": {
      "text/html": [
       "<div>\n",
       "<table border=\"1\" class=\"dataframe\">\n",
       "  <thead>\n",
       "    <tr style=\"text-align: right;\">\n",
       "      <th></th>\n",
       "      <th>id</th>\n",
       "      <th>StringToExtract</th>\n",
       "      <th>description</th>\n",
       "      <th>processed_desc</th>\n",
       "      <th>present_ip</th>\n",
       "      <th>is_ip</th>\n",
       "      <th>service_keywords</th>\n",
       "      <th>ddl_0_keywords</th>\n",
       "      <th>ddl_1_keywords</th>\n",
       "      <th>ddl_2_keywords</th>\n",
       "      <th>ddl_3_keywords</th>\n",
       "      <th>is_matched</th>\n",
       "      <th>ip_keywords</th>\n",
       "      <th>is_will</th>\n",
       "      <th>is_internal</th>\n",
       "      <th>chk</th>\n",
       "    </tr>\n",
       "  </thead>\n",
       "  <tbody>\n",
       "    <tr>\n",
       "      <th>3839</th>\n",
       "      <td>12127</td>\n",
       "      <td>ddl-ch-v03</td>\n",
       "      <td>tcp connectivity against local server - address book failure (nspi) the test step getprofiledetails running over protocol 'ncacn_ip_tcp' issued from test user '/o=ifrdoflc ccaehn/ou=ddldon/cn=recipients/cn=extest_25f912293bca4' failed with error: '-2147467259(unspecified error)'. the detailed information of the running instance context: 'user = 'extest_25f912293bca4', server = 'ddl-ch-v03.internal.ecnahcdroffilc.net', usehttp = 'false''. the exception: 'fotrscomi.eehaxgnc.monitoring.nspioperationexception: the nspi operation failed. operation = '&lt;queryhomemdb&gt;b__8', returnvalue = '-2147467259', server = 'ddl-ch-v03.internal.ecnahcdroffilc.net', user = '/o=ifrdoflc ccaehn/ou=ddldon/cn=recipients/cn=extest_25f912293bca4', .\\r\\r\\n   at fotrscomi.eehaxgnc.monitoring.nspiclientwrapper.nspicall(func`1 nspicall)\\r\\r\\n   at fotrscomi.eehaxgnc.monitoring.nspiclientwrapper.queryhomemdb(string primarysmtpaddress, legacydn&amp; homemdb, legacydn&amp; userlegacydn)\\r\\r\\n   at fotrscomi.eehaxgnc.monitoring.addressbooktask.getprofile()'\\r\\r\\nverbose: target site = 'ecnahcdroffilc.net/configuration/sites/ddldon'\\r\\r\\nverbose: target domain = 'internal.ecnahcdroffilc.net'\\r\\r\\nverbose: target user = 'extest_25f912293bca4@internal.ecnahcdroffilc.net'\\r\\r\\nverbose: based on rpctesttype, the cmdlet needs to dynamically look up the endpoint that uses this server as reference point.\\r\\r\\nverbose: target client access server = 'ddl-ch-v03.internal.ecnahcdroffilc.net'\\r\\r\\nverbose: rpc endpoint = 'ddl-ch-v03.internal.ecnahcdroffilc.net'\\r\\r\\nverbose: rpc endpoint = 'ddl-ch-v03.internal.ecnahcdroffilc.net'\\r\\r\\nverbose: rpc endpoint = 'ddl-ch-v03.internal.ecnahcdroffilc.net'\\r\\r\\nverbose: using connection parameters : 'internal.ecnahcdroffilc.net\\extest_25f912293bca4: rfri/tcp-ip, [ddl-ch-v03.internal.ecnahcdroffilc.net/negotiate]'\\r\\r\\nverbose: mloxbia = 'internal.ecnahcdroffilc.net\\extest_25f912293bca4', owner = '/o=ifrdoflc ccaehn/ou=ddldon/cn=recipients/cn=extest_25f912293bca4'\\r\\r\\nverbose...</td>\n",
       "      <td>tcp connectivity against local server - address book failure  nspi) the test step getprofiledetails running over protocol  ncacn_ip_tcp  issued from test user   o=ifrdoflc ccaehn ou=ddldon cn=recipients cn=extest_25f912293bca4  failed with error   -2147467259 unspecified error)   the detailed information of the running instance context   user =  extest_25f912293bca4 , server =  ddl-ch-v03 internal ecnahcdroffilc net , usehttp =  false    the exception   fotrscomi eehaxgnc monitoring nspioperationexception  the nspi operation failed  operation =  &lt;queryhomemdb&gt;b__8 , returnvalue =  -2147467259 , server =  ddl-ch-v03 internal ecnahcdroffilc net , user =   o=ifrdoflc ccaehn ou=ddldon cn=recipients cn=extest_25f912293bca4 ,  \\r\\r\\n   at fotrscomi eehaxgnc monitoring nspiclientwrapper nspicall func`1 nspicall)\\r\\r\\n   at fotrscomi eehaxgnc monitoring nspiclientwrapper queryhomemdb string primarysmtpaddress, legacydn&amp; homemdb, legacydn&amp; userlegacydn)\\r\\r\\n   at fotrscomi eehaxgnc monitoring addressbooktask getprofile ) \\r\\r\\nverbose  target site =  ecnahcdroffilc net configuration sites ddldon \\r\\r\\nverbose  target domain =  internal ecnahcdroffilc net \\r\\r\\nverbose  target user =  extest_25f912293bca4@internal ecnahcdroffilc net \\r\\r\\nverbose  based on rpctesttype, the cmdlet needs to dynamically look up the endpoint that uses this server as reference point \\r\\r\\nverbose  target client access server =  ddl-ch-v03 internal ecnahcdroffilc net \\r\\r\\nverbose  rpc endpoint =  ddl-ch-v03 internal ecnahcdroffilc net \\r\\r\\nverbose  rpc endpoint =  ddl-ch-v03 internal ecnahcdroffilc net \\r\\r\\nverbose  rpc endpoint =  ddl-ch-v03 internal ecnahcdroffilc net \\r\\r\\nverbose  using connection parameters    internal ecnahcdroffilc net\\extest_25f912293bca4  rfri tcp-ip,  ddl-ch-v03 internal ecnahcdroffilc net negotiate] \\r\\r\\nverbose  mloxbia =  internal ecnahcdroffilc net\\extest_25f912293bca4 , owner =   o=ifrdoflc ccaehn ou=ddldon cn=recipients cn=extest_25f912293bca4 \\r\\r\\nverbose...</td>\n",
       "      <td>not an ip</td>\n",
       "      <td>0</td>\n",
       "      <td>0</td>\n",
       "      <td>ddl-ch-v03</td>\n",
       "      <td>ddl-ch-v03</td>\n",
       "      <td>ddl-ch-v03</td>\n",
       "      <td>error</td>\n",
       "      <td>1</td>\n",
       "      <td>0</td>\n",
       "      <td>0</td>\n",
       "      <td>0</td>\n",
       "      <td>1</td>\n",
       "    </tr>\n",
       "  </tbody>\n",
       "</table>\n",
       "</div>"
      ],
      "text/plain": [
       "         id StringToExtract  \\\n",
       "3839  12127      ddl-ch-v03   \n",
       "\n",
       "                                                                                                                                                                                                                                                                                                                                                                                                                                                                                                                                                                                                                                                                                                                                                                                                                                                                                                                                                                                                                                                                                                                                                                                                                                                                                                                                                                                                                                                                                                                                                                                                                                                                                                                                                                                                                                                                                                                                                                                                                                                                          description  \\\n",
       "3839  tcp connectivity against local server - address book failure (nspi) the test step getprofiledetails running over protocol 'ncacn_ip_tcp' issued from test user '/o=ifrdoflc ccaehn/ou=ddldon/cn=recipients/cn=extest_25f912293bca4' failed with error: '-2147467259(unspecified error)'. the detailed information of the running instance context: 'user = 'extest_25f912293bca4', server = 'ddl-ch-v03.internal.ecnahcdroffilc.net', usehttp = 'false''. the exception: 'fotrscomi.eehaxgnc.monitoring.nspioperationexception: the nspi operation failed. operation = '<queryhomemdb>b__8', returnvalue = '-2147467259', server = 'ddl-ch-v03.internal.ecnahcdroffilc.net', user = '/o=ifrdoflc ccaehn/ou=ddldon/cn=recipients/cn=extest_25f912293bca4', .\\r\\r\\n   at fotrscomi.eehaxgnc.monitoring.nspiclientwrapper.nspicall(func`1 nspicall)\\r\\r\\n   at fotrscomi.eehaxgnc.monitoring.nspiclientwrapper.queryhomemdb(string primarysmtpaddress, legacydn& homemdb, legacydn& userlegacydn)\\r\\r\\n   at fotrscomi.eehaxgnc.monitoring.addressbooktask.getprofile()'\\r\\r\\nverbose: target site = 'ecnahcdroffilc.net/configuration/sites/ddldon'\\r\\r\\nverbose: target domain = 'internal.ecnahcdroffilc.net'\\r\\r\\nverbose: target user = 'extest_25f912293bca4@internal.ecnahcdroffilc.net'\\r\\r\\nverbose: based on rpctesttype, the cmdlet needs to dynamically look up the endpoint that uses this server as reference point.\\r\\r\\nverbose: target client access server = 'ddl-ch-v03.internal.ecnahcdroffilc.net'\\r\\r\\nverbose: rpc endpoint = 'ddl-ch-v03.internal.ecnahcdroffilc.net'\\r\\r\\nverbose: rpc endpoint = 'ddl-ch-v03.internal.ecnahcdroffilc.net'\\r\\r\\nverbose: rpc endpoint = 'ddl-ch-v03.internal.ecnahcdroffilc.net'\\r\\r\\nverbose: using connection parameters : 'internal.ecnahcdroffilc.net\\extest_25f912293bca4: rfri/tcp-ip, [ddl-ch-v03.internal.ecnahcdroffilc.net/negotiate]'\\r\\r\\nverbose: mloxbia = 'internal.ecnahcdroffilc.net\\extest_25f912293bca4', owner = '/o=ifrdoflc ccaehn/ou=ddldon/cn=recipients/cn=extest_25f912293bca4'\\r\\r\\nverbose...   \n",
       "\n",
       "                                                                                                                                                                                                                                                                                                                                                                                                                                                                                                                                                                                                                                                                                                                                                                                                                                                                                                                                                                                                                                                                                                                                                                                                                                                                                                                                                                                                                                                                                                                                                                                                                                                                                                                                                                                                                                                                                                                                                                                                                                                                       processed_desc  \\\n",
       "3839  tcp connectivity against local server - address book failure  nspi) the test step getprofiledetails running over protocol  ncacn_ip_tcp  issued from test user   o=ifrdoflc ccaehn ou=ddldon cn=recipients cn=extest_25f912293bca4  failed with error   -2147467259 unspecified error)   the detailed information of the running instance context   user =  extest_25f912293bca4 , server =  ddl-ch-v03 internal ecnahcdroffilc net , usehttp =  false    the exception   fotrscomi eehaxgnc monitoring nspioperationexception  the nspi operation failed  operation =  <queryhomemdb>b__8 , returnvalue =  -2147467259 , server =  ddl-ch-v03 internal ecnahcdroffilc net , user =   o=ifrdoflc ccaehn ou=ddldon cn=recipients cn=extest_25f912293bca4 ,  \\r\\r\\n   at fotrscomi eehaxgnc monitoring nspiclientwrapper nspicall func`1 nspicall)\\r\\r\\n   at fotrscomi eehaxgnc monitoring nspiclientwrapper queryhomemdb string primarysmtpaddress, legacydn& homemdb, legacydn& userlegacydn)\\r\\r\\n   at fotrscomi eehaxgnc monitoring addressbooktask getprofile ) \\r\\r\\nverbose  target site =  ecnahcdroffilc net configuration sites ddldon \\r\\r\\nverbose  target domain =  internal ecnahcdroffilc net \\r\\r\\nverbose  target user =  extest_25f912293bca4@internal ecnahcdroffilc net \\r\\r\\nverbose  based on rpctesttype, the cmdlet needs to dynamically look up the endpoint that uses this server as reference point \\r\\r\\nverbose  target client access server =  ddl-ch-v03 internal ecnahcdroffilc net \\r\\r\\nverbose  rpc endpoint =  ddl-ch-v03 internal ecnahcdroffilc net \\r\\r\\nverbose  rpc endpoint =  ddl-ch-v03 internal ecnahcdroffilc net \\r\\r\\nverbose  rpc endpoint =  ddl-ch-v03 internal ecnahcdroffilc net \\r\\r\\nverbose  using connection parameters    internal ecnahcdroffilc net\\extest_25f912293bca4  rfri tcp-ip,  ddl-ch-v03 internal ecnahcdroffilc net negotiate] \\r\\r\\nverbose  mloxbia =  internal ecnahcdroffilc net\\extest_25f912293bca4 , owner =   o=ifrdoflc ccaehn ou=ddldon cn=recipients cn=extest_25f912293bca4 \\r\\r\\nverbose...   \n",
       "\n",
       "     present_ip  is_ip  service_keywords ddl_0_keywords ddl_1_keywords  \\\n",
       "3839  not an ip      0                 0     ddl-ch-v03     ddl-ch-v03   \n",
       "\n",
       "     ddl_2_keywords ddl_3_keywords  is_matched  ip_keywords  is_will  \\\n",
       "3839     ddl-ch-v03          error           1            0        0   \n",
       "\n",
       "      is_internal  chk  \n",
       "3839            0    1  "
      ]
     },
     "execution_count": 373,
     "metadata": {},
     "output_type": "execute_result"
    }
   ],
   "source": [
    "train[train.StringToExtract== 'ddl-ch-v03']"
   ]
  },
  {
   "cell_type": "code",
   "execution_count": 374,
   "metadata": {
    "collapsed": false
   },
   "outputs": [
    {
     "data": {
      "text/html": [
       "<div>\n",
       "<table border=\"1\" class=\"dataframe\">\n",
       "  <thead>\n",
       "    <tr style=\"text-align: right;\">\n",
       "      <th></th>\n",
       "      <th>id</th>\n",
       "      <th>description</th>\n",
       "      <th>processed_desc</th>\n",
       "      <th>present_ip</th>\n",
       "      <th>service_keywords</th>\n",
       "      <th>ddl_0_keywords</th>\n",
       "      <th>ddl_1_keywords</th>\n",
       "      <th>ddl_2_keywords</th>\n",
       "      <th>ddl_3_keywords</th>\n",
       "      <th>ip_keywords</th>\n",
       "      <th>best_sub_String</th>\n",
       "      <th>is_ip_best</th>\n",
       "      <th>is_will</th>\n",
       "      <th>is_internal</th>\n",
       "      <th>final_string</th>\n",
       "      <th>chk</th>\n",
       "    </tr>\n",
       "  </thead>\n",
       "  <tbody>\n",
       "    <tr>\n",
       "      <th>59</th>\n",
       "      <td>87</td>\n",
       "      <td>monitoring failed to run the test-mrsteahhl cmdlet. an active directory error 0x51 occurred when trying to check the suitability of server 'ddl-dc-06.internal.ecnahcdroffilc.net'. error: 'active directory response: the ldap server is unavailable.'\\r\\r\\n\\r\\r\\ndiagnostic command: \"test-mrsteahhl -monitoringcontext:$true\"\\r\\r\\neventsourcename: mseehaxgnc monitoring mrsteahhl\\r\\r\\n\\r\\r\\n\\r\\r\\n  knowledge: http://go.fotrscomi.com/fwlink/?linkid=67336&amp;id=80d898e6-58fe-45e1-9c04-0ba31357b532\\r\\r\\n\\r\\r\\n  computer: ddl-ch-v03.internal.ecnahcdroffilc.net\\r\\r\\n\\r\\r\\n  impacted entities (0): fotrscomi.eehaxgnc.2010.clientaccessmloxbiareplicationservice:ddl-ch-v03.internal.ecnahcdroffilc.net;ddl-ch-v03 (client access) - ddldon;mloxbia replication service - ddl-ch-v03 (client access) - ddldon ddl-ch-v03.internal.ecnahcdroffilc.net;ddl-ch-v03 (client access) - ddldon false 255 1 1 na na alert system 3-25-2017 6:38:00 am 3-25-2017 6:43:58 am 358 ddldonmocs</td>\n",
       "      <td>monitoring failed to run the test-mrsteahhl cmdlet  an active directory error 0x51 occurred when trying to check the suitability of server  ddl-dc-06 internal ecnahcdroffilc net   error   active directory response  the ldap server is unavailable  \\r\\r\\n\\r\\r\\ndiagnostic command   test-mrsteahhl -monitoringcontext $true \\r\\r\\neventsourcename  mseehaxgnc monitoring mrsteahhl\\r\\r\\n\\r\\r\\n\\r\\r\\n  knowledge  http   go fotrscomi com fwlink ?linkid=67336&amp;id=80d898e6-58fe-45e1-9c04-0ba31357b532\\r\\r\\n\\r\\r\\n  computer  ddl-ch-v03 internal ecnahcdroffilc net\\r\\r\\n\\r\\r\\n  impacted entities  0)  fotrscomi eehaxgnc 2010 clientaccessmloxbiareplicationservice ddl-ch-v03 internal ecnahcdroffilc net;ddl-ch-v03  client access) - ddldon;mloxbia replication service - ddl-ch-v03  client access) - ddldon ddl-ch-v03 internal ecnahcdroffilc net;ddl-ch-v03  client access) - ddldon false 255 1 1 na na alert system 3-25-2017 6 38 00 am 3-25-2017 6 43 58 am 358 ddldonmocs</td>\n",
       "      <td>not an ip</td>\n",
       "      <td>0</td>\n",
       "      <td>ddl-dc-06</td>\n",
       "      <td>ddl-dc-06</td>\n",
       "      <td>ddl-dc-06</td>\n",
       "      <td>error</td>\n",
       "      <td>0</td>\n",
       "      <td>ddl-dc-06</td>\n",
       "      <td>0</td>\n",
       "      <td>0</td>\n",
       "      <td>0</td>\n",
       "      <td>ddl-dc-06</td>\n",
       "      <td>1</td>\n",
       "    </tr>\n",
       "  </tbody>\n",
       "</table>\n",
       "</div>"
      ],
      "text/plain": [
       "    id  \\\n",
       "59  87   \n",
       "\n",
       "                                                                                                                                                                                                                                                                                                                                                                                                                                                                                                                                                                                                                                                                                                                                                                                                                                                                                                                                                                                    description  \\\n",
       "59  monitoring failed to run the test-mrsteahhl cmdlet. an active directory error 0x51 occurred when trying to check the suitability of server 'ddl-dc-06.internal.ecnahcdroffilc.net'. error: 'active directory response: the ldap server is unavailable.'\\r\\r\\n\\r\\r\\ndiagnostic command: \"test-mrsteahhl -monitoringcontext:$true\"\\r\\r\\neventsourcename: mseehaxgnc monitoring mrsteahhl\\r\\r\\n\\r\\r\\n\\r\\r\\n  knowledge: http://go.fotrscomi.com/fwlink/?linkid=67336&id=80d898e6-58fe-45e1-9c04-0ba31357b532\\r\\r\\n\\r\\r\\n  computer: ddl-ch-v03.internal.ecnahcdroffilc.net\\r\\r\\n\\r\\r\\n  impacted entities (0): fotrscomi.eehaxgnc.2010.clientaccessmloxbiareplicationservice:ddl-ch-v03.internal.ecnahcdroffilc.net;ddl-ch-v03 (client access) - ddldon;mloxbia replication service - ddl-ch-v03 (client access) - ddldon ddl-ch-v03.internal.ecnahcdroffilc.net;ddl-ch-v03 (client access) - ddldon false 255 1 1 na na alert system 3-25-2017 6:38:00 am 3-25-2017 6:43:58 am 358 ddldonmocs   \n",
       "\n",
       "                                                                                                                                                                                                                                                                                                                                                                                                                                                                                                                                                                                                                                                                                                                                                                                                                                                                                                                                                                                 processed_desc  \\\n",
       "59  monitoring failed to run the test-mrsteahhl cmdlet  an active directory error 0x51 occurred when trying to check the suitability of server  ddl-dc-06 internal ecnahcdroffilc net   error   active directory response  the ldap server is unavailable  \\r\\r\\n\\r\\r\\ndiagnostic command   test-mrsteahhl -monitoringcontext $true \\r\\r\\neventsourcename  mseehaxgnc monitoring mrsteahhl\\r\\r\\n\\r\\r\\n\\r\\r\\n  knowledge  http   go fotrscomi com fwlink ?linkid=67336&id=80d898e6-58fe-45e1-9c04-0ba31357b532\\r\\r\\n\\r\\r\\n  computer  ddl-ch-v03 internal ecnahcdroffilc net\\r\\r\\n\\r\\r\\n  impacted entities  0)  fotrscomi eehaxgnc 2010 clientaccessmloxbiareplicationservice ddl-ch-v03 internal ecnahcdroffilc net;ddl-ch-v03  client access) - ddldon;mloxbia replication service - ddl-ch-v03  client access) - ddldon ddl-ch-v03 internal ecnahcdroffilc net;ddl-ch-v03  client access) - ddldon false 255 1 1 na na alert system 3-25-2017 6 38 00 am 3-25-2017 6 43 58 am 358 ddldonmocs   \n",
       "\n",
       "   present_ip  service_keywords ddl_0_keywords ddl_1_keywords ddl_2_keywords  \\\n",
       "59  not an ip                 0      ddl-dc-06      ddl-dc-06      ddl-dc-06   \n",
       "\n",
       "   ddl_3_keywords  ip_keywords best_sub_String  is_ip_best  is_will  \\\n",
       "59          error            0       ddl-dc-06           0        0   \n",
       "\n",
       "    is_internal final_string  chk  \n",
       "59            0    ddl-dc-06    1  "
      ]
     },
     "execution_count": 374,
     "metadata": {},
     "output_type": "execute_result"
    }
   ],
   "source": [
    "test[test.chk==1]"
   ]
  },
  {
   "cell_type": "code",
   "execution_count": null,
   "metadata": {
    "collapsed": true
   },
   "outputs": [],
   "source": [
    "## IDs to be corrected : 6045 - hkg-spr3crwl-02\n",
    "# \n",
    "test[test]"
   ]
  },
  {
   "cell_type": "code",
   "execution_count": 263,
   "metadata": {
    "collapsed": false
   },
   "outputs": [
    {
     "name": "stdout",
     "output_type": "stream",
     "text": [
      "(6, 14)\n",
      "(3, 13)\n"
     ]
    }
   ],
   "source": [
    "will_list =['ddl-mocsgw-03',\n",
    " 'ddl-sim-02',\n",
    " 'esc-sim-01',\n",
    " 'hdr-sanmgt-01',\n",
    " 'hkg-mocsgw-01',\n",
    " 'hkg-sanmgt-01',\n",
    " 'nyc-sanmgt-01',\n",
    " 'was-sanmgt-01']\n",
    "\n",
    "\n",
    "def get_all_will(x):\n",
    "    #indx1 = x.find('kb4013867')\n",
    "    indx2 = x.find('computer:ddl-web')\n",
    "    indx3 = x.find('computer:ddl-sanmgt')\n",
    "    indx4 = x.find('computer:nyc-mocsgw')\n",
    "    indx5 = x.find('3l1574l6')\n",
    "    #indx6 = x.find('was-sanmgt-01')\n",
    "    #indx7 = x.find('kb4013867')\n",
    "    #indx8 = x.find('kb4013867')\n",
    "    if(  ((indx2<>-1) | (indx3<>-1) | (indx4 <>-1) | (indx5<>-1))):\n",
    "        return 1\n",
    "    else:\n",
    "        return 0\n",
    "    \n",
    "train['is_will'] = train.description.apply(get_all_will)\n",
    "test['is_will'] = test.description.apply(get_all_will)\n",
    "#error_all.processed_desc.apply(get_all_will)\n",
    "print train[train.is_will==1].shape\n",
    "print test[test.is_will==1].shape"
   ]
  },
  {
   "cell_type": "code",
   "execution_count": 282,
   "metadata": {
    "collapsed": false
   },
   "outputs": [
    {
     "name": "stdout",
     "output_type": "stream",
     "text": [
      "(5, 15)\n",
      "(9, 14)\n"
     ]
    }
   ],
   "source": [
    "def get_all_internal(x):\n",
    "    indx1 = x.find('zone internal')\n",
    "    indx2 = x.find('domain:internal')\n",
    "    if((indx1<>-1) | (indx2<>-1) ):\n",
    "        return 1\n",
    "    else:\n",
    "        return 0\n",
    "    \n",
    "train['is_internal'] = train.description.apply(get_all_internal)\n",
    "test['is_internal'] = test.description.apply(get_all_internal)\n",
    "print train[train.is_internal==1].shape\n",
    "print test[test.is_internal==1].shape"
   ]
  },
  {
   "cell_type": "code",
   "execution_count": 293,
   "metadata": {
    "collapsed": false
   },
   "outputs": [],
   "source": [
    "#test[test.is_internal==1].id.unique()"
   ]
  },
  {
   "cell_type": "code",
   "execution_count": 284,
   "metadata": {
    "collapsed": false
   },
   "outputs": [],
   "source": [
    "#train[train.StringToExtract=='internal']\n",
    "#[test.is_will==1]"
   ]
  },
  {
   "cell_type": "code",
   "execution_count": 256,
   "metadata": {
    "collapsed": false
   },
   "outputs": [],
   "source": [
    "#train[train.StringToExtract=='will']\n",
    "#train.description[477].find('kb4013867')"
   ]
  },
  {
   "cell_type": "code",
   "execution_count": 196,
   "metadata": {
    "collapsed": false
   },
   "outputs": [],
   "source": [
    "#train[train.is_will==1]\n",
    "#[('esc-cvbkpcs-01', ' '), ('esc-cvbkpcs-01', ' ')][0][0]"
   ]
  },
  {
   "cell_type": "code",
   "execution_count": 700,
   "metadata": {
    "collapsed": false
   },
   "outputs": [],
   "source": [
    "#train[(train.ddl_1_keywords=='service')]\n",
    "# \\r\\r\\ncisco prime lm admin\n",
    "# cisco callnageram cisco ip phone"
   ]
  },
  {
   "cell_type": "code",
   "execution_count": 659,
   "metadata": {
    "collapsed": false
   },
   "outputs": [],
   "source": [
    "#100*148.0/train.shape[0]"
   ]
  },
  {
   "cell_type": "code",
   "execution_count": 651,
   "metadata": {
    "collapsed": false
   },
   "outputs": [
    {
     "data": {
      "text/plain": [
       "99.9013060275273"
      ]
     },
     "execution_count": 651,
     "metadata": {},
     "output_type": "execute_result"
    }
   ],
   "source": [
    "99.7874 + 100*24.0/test.shape[0]"
   ]
  },
  {
   "cell_type": "code",
   "execution_count": 654,
   "metadata": {
    "collapsed": false
   },
   "outputs": [],
   "source": [
    "error_all"
   ]
  },
  {
   "cell_type": "code",
   "execution_count": 146,
   "metadata": {
    "collapsed": false
   },
   "outputs": [
    {
     "data": {
      "text/html": [
       "<div>\n",
       "<table border=\"1\" class=\"dataframe\">\n",
       "  <thead>\n",
       "    <tr style=\"text-align: right;\">\n",
       "      <th></th>\n",
       "      <th>id</th>\n",
       "      <th>StringToExtract</th>\n",
       "    </tr>\n",
       "  </thead>\n",
       "  <tbody>\n",
       "    <tr>\n",
       "      <th>0</th>\n",
       "      <td>1</td>\n",
       "      <td>frapub2</td>\n",
       "    </tr>\n",
       "    <tr>\n",
       "      <th>1</th>\n",
       "      <td>2</td>\n",
       "      <td>lpap02z1</td>\n",
       "    </tr>\n",
       "    <tr>\n",
       "      <th>2</th>\n",
       "      <td>4</td>\n",
       "      <td>ddlsql43</td>\n",
       "    </tr>\n",
       "    <tr>\n",
       "      <th>3</th>\n",
       "      <td>5</td>\n",
       "      <td>ddl-ubs-28-ca-asw1</td>\n",
       "    </tr>\n",
       "    <tr>\n",
       "      <th>4</th>\n",
       "      <td>6</td>\n",
       "      <td>ddlsql43</td>\n",
       "    </tr>\n",
       "    <tr>\n",
       "      <th>5</th>\n",
       "      <td>8</td>\n",
       "      <td>ddlsql43</td>\n",
       "    </tr>\n",
       "    <tr>\n",
       "      <th>6</th>\n",
       "      <td>9</td>\n",
       "      <td>frapub2</td>\n",
       "    </tr>\n",
       "    <tr>\n",
       "      <th>7</th>\n",
       "      <td>10</td>\n",
       "      <td>ddlsql43</td>\n",
       "    </tr>\n",
       "    <tr>\n",
       "      <th>8</th>\n",
       "      <td>11</td>\n",
       "      <td>esc-spr4web-01</td>\n",
       "    </tr>\n",
       "    <tr>\n",
       "      <th>9</th>\n",
       "      <td>12</td>\n",
       "      <td>ddlsql43</td>\n",
       "    </tr>\n",
       "  </tbody>\n",
       "</table>\n",
       "</div>"
      ],
      "text/plain": [
       "   id     StringToExtract\n",
       "0   1             frapub2\n",
       "1   2            lpap02z1\n",
       "2   4            ddlsql43\n",
       "3   5  ddl-ubs-28-ca-asw1\n",
       "4   6            ddlsql43\n",
       "5   8            ddlsql43\n",
       "6   9             frapub2\n",
       "7  10            ddlsql43\n",
       "8  11      esc-spr4web-01\n",
       "9  12            ddlsql43"
      ]
     },
     "execution_count": 146,
     "metadata": {},
     "output_type": "execute_result"
    }
   ],
   "source": [
    "samplesubmission.StringToExtract = test.ddl_1_keywords\n",
    "#samplesubmission.StringToExtract \n",
    "samplesubmission.to_csv('only_regex_no_will_intrenal.csv',index=False)\n",
    "samplesubmission.head(10)"
   ]
  },
  {
   "cell_type": "code",
   "execution_count": null,
   "metadata": {
    "collapsed": true
   },
   "outputs": [],
   "source": [
    "# IPS = 120 , service = 19 , will = 5 internal = 4"
   ]
  },
  {
   "cell_type": "code",
   "execution_count": 630,
   "metadata": {
    "collapsed": false
   },
   "outputs": [
    {
     "data": {
      "text/plain": [
       "(120, 14)"
      ]
     },
     "execution_count": 630,
     "metadata": {},
     "output_type": "execute_result"
    }
   ],
   "source": [
    "train[train.StringToExtract==train.present_ip].shape"
   ]
  },
  {
   "cell_type": "code",
   "execution_count": 14,
   "metadata": {
    "collapsed": false
   },
   "outputs": [
    {
     "name": "stdout",
     "output_type": "stream",
     "text": [
      "139\n"
     ]
    }
   ],
   "source": [
    "#print error_all[error_all.is_ip==1].shape\n",
    "#error_all.StringToExtract.value_counts()\n",
    "#error_all[error_all.is_ip==1][['StringToExtract','description']]\n",
    "\n",
    "def ip_keywords(row):\n",
    "    indx_1 = row.processed_desc.find('ddl-oionr-01')\n",
    "    indx_2 = row.processed_desc.find('ddl-msg-mgmt03')\n",
    "    indx_3 = row.processed_desc.find('esc-sim-01')\n",
    "    indx_4 = row.processed_desc.find('ddl-sim-02')\n",
    "    indx_5 = row.processed_desc.find('was-sanmgt-01')\n",
    "    indx_6 = row.processed_desc.find('dimensiondataservices')\n",
    "    \n",
    "    ip_in_ips = row.present_ip in (all_ips)\n",
    "    if(( (indx_1<>-1)  | (indx_2<>-1) | (indx_3<>-1) |\n",
    "        (indx_4<>-1) | (indx_5<>-1) ) & (ip_in_ips == True) ):\n",
    "        \n",
    "        if( (indx_6<>-1)):\n",
    "            return 0\n",
    "        else:\n",
    "            return 1\n",
    "    #if((row.present_ip<>'not an ip') & (row.ddl_3_keywords in(['internal','error'])) ):\n",
    "        #& (row.ddl_3_keywords in(['internal','error','rom-ug-dsw1-01'])) ):\n",
    "        #if( (ip_in_ips) ):\n",
    "        return 1\n",
    "    else:\n",
    "        return 0\n",
    "    \n",
    "train['ip_keywords'] = train.apply(ip_keywords,axis=1)\n",
    "test['ip_keywords'] = test.apply(ip_keywords,axis=1)\n",
    "print sum(train['ip_keywords'])"
   ]
  },
  {
   "cell_type": "code",
   "execution_count": 144,
   "metadata": {
    "collapsed": false
   },
   "outputs": [
    {
     "data": {
      "text/html": [
       "<div>\n",
       "<table border=\"1\" class=\"dataframe\">\n",
       "  <thead>\n",
       "    <tr style=\"text-align: right;\">\n",
       "      <th></th>\n",
       "      <th>id</th>\n",
       "      <th>StringToExtract</th>\n",
       "      <th>description</th>\n",
       "      <th>processed_desc</th>\n",
       "      <th>present_ip</th>\n",
       "      <th>is_ip</th>\n",
       "      <th>service_keywords</th>\n",
       "      <th>ddl_0_keywords</th>\n",
       "      <th>ddl_1_keywords</th>\n",
       "      <th>ddl_2_keywords</th>\n",
       "      <th>ddl_3_keywords</th>\n",
       "      <th>is_matched</th>\n",
       "      <th>ip_keywords</th>\n",
       "    </tr>\n",
       "  </thead>\n",
       "  <tbody>\n",
       "  </tbody>\n",
       "</table>\n",
       "</div>"
      ],
      "text/plain": [
       "Empty DataFrame\n",
       "Columns: [id, StringToExtract, description, processed_desc, present_ip, is_ip, service_keywords, ddl_0_keywords, ddl_1_keywords, ddl_2_keywords, ddl_3_keywords, is_matched, ip_keywords]\n",
       "Index: []"
      ]
     },
     "execution_count": 144,
     "metadata": {},
     "output_type": "execute_result"
    }
   ],
   "source": [
    "train[(train.ip_keywords==1) & (train.service_keywords<>1) & (train.is_ip<>1)]"
   ]
  },
  {
   "cell_type": "code",
   "execution_count": 119,
   "metadata": {
    "collapsed": false
   },
   "outputs": [],
   "source": [
    "#train[train.ddl_3_keywords.isin(['error','internal'])].shape"
   ]
  },
  {
   "cell_type": "code",
   "execution_count": 121,
   "metadata": {
    "collapsed": false
   },
   "outputs": [
    {
     "ename": "AttributeError",
     "evalue": "'DataFrame' object has no attribute 'services_keywords'",
     "output_type": "error",
     "traceback": [
      "\u001b[0;31m---------------------------------------------------------------------------\u001b[0m",
      "\u001b[0;31mAttributeError\u001b[0m                            Traceback (most recent call last)",
      "\u001b[0;32m<ipython-input-121-641213d2dcdf>\u001b[0m in \u001b[0;36m<module>\u001b[0;34m()\u001b[0m\n\u001b[0;32m----> 1\u001b[0;31m \u001b[0mtrain\u001b[0m\u001b[0;34m[\u001b[0m\u001b[0mtrain\u001b[0m\u001b[0;34m.\u001b[0m\u001b[0mservices_keywords\u001b[0m\u001b[0;34m==\u001b[0m\u001b[0;36m1\u001b[0m\u001b[0;34m]\u001b[0m\u001b[0;34m\u001b[0m\u001b[0m\n\u001b[0m\u001b[1;32m      2\u001b[0m \u001b[0;31m#test[test.services_keywords==1].shape\u001b[0m\u001b[0;34m\u001b[0m\u001b[0;34m\u001b[0m\u001b[0m\n\u001b[1;32m      3\u001b[0m \u001b[0;31m#train[train.StringToExtract=='services']\u001b[0m\u001b[0;34m\u001b[0m\u001b[0;34m\u001b[0m\u001b[0m\n",
      "\u001b[0;32m/Users/jeebanswain/anaconda2/lib/python2.7/site-packages/pandas/core/generic.pyc\u001b[0m in \u001b[0;36m__getattr__\u001b[0;34m(self, name)\u001b[0m\n\u001b[1;32m   2148\u001b[0m                 \u001b[0;32mreturn\u001b[0m \u001b[0mself\u001b[0m\u001b[0;34m[\u001b[0m\u001b[0mname\u001b[0m\u001b[0;34m]\u001b[0m\u001b[0;34m\u001b[0m\u001b[0m\n\u001b[1;32m   2149\u001b[0m             raise AttributeError(\"'%s' object has no attribute '%s'\" %\n\u001b[0;32m-> 2150\u001b[0;31m                                  (type(self).__name__, name))\n\u001b[0m\u001b[1;32m   2151\u001b[0m \u001b[0;34m\u001b[0m\u001b[0m\n\u001b[1;32m   2152\u001b[0m     \u001b[0;32mdef\u001b[0m \u001b[0m__setattr__\u001b[0m\u001b[0;34m(\u001b[0m\u001b[0mself\u001b[0m\u001b[0;34m,\u001b[0m \u001b[0mname\u001b[0m\u001b[0;34m,\u001b[0m \u001b[0mvalue\u001b[0m\u001b[0;34m)\u001b[0m\u001b[0;34m:\u001b[0m\u001b[0;34m\u001b[0m\u001b[0m\n",
      "\u001b[0;31mAttributeError\u001b[0m: 'DataFrame' object has no attribute 'services_keywords'"
     ]
    }
   ],
   "source": [
    "#train[train.services_keywords==1]\n",
    "#test[test.services_keywords==1].shape\n",
    "#train[train.StringToExtract=='services']"
   ]
  },
  {
   "cell_type": "code",
   "execution_count": 80,
   "metadata": {
    "collapsed": false
   },
   "outputs": [
    {
     "data": {
      "text/plain": [
       "(3, 13)"
      ]
     },
     "execution_count": 80,
     "metadata": {},
     "output_type": "execute_result"
    }
   ],
   "source": [
    "train[train.StringToExtract=='error'].shape"
   ]
  },
  {
   "cell_type": "code",
   "execution_count": 79,
   "metadata": {
    "collapsed": false
   },
   "outputs": [
    {
     "data": {
      "text/plain": [
       "(0, 13)"
      ]
     },
     "execution_count": 79,
     "metadata": {},
     "output_type": "execute_result"
    }
   ],
   "source": [
    "train[(train.ip_keywords==1) & (train.StringToExtract<>'service')].shape"
   ]
  },
  {
   "cell_type": "code",
   "execution_count": 27,
   "metadata": {
    "collapsed": false
   },
   "outputs": [
    {
     "name": "stdout",
     "output_type": "stream",
     "text": [
      "(121, 13)\n",
      "(202, 10)\n",
      "(245, 10)\n"
     ]
    }
   ],
   "source": [
    "print train[(train.ip_keywords==1) & (train.service_keywords==0)].shape\n",
    "print test[(test.ip_keywords==1) & (test.service_keywords==0)].shape\n",
    "print test[test.ip_keywords==1].shape"
   ]
  },
  {
   "cell_type": "code",
   "execution_count": null,
   "metadata": {
    "collapsed": true
   },
   "outputs": [],
   "source": []
  },
  {
   "cell_type": "code",
   "execution_count": 34,
   "metadata": {
    "collapsed": false
   },
   "outputs": [],
   "source": [
    "#test[(test.ip_keywords==1) & (test.service_keywords==0)].head()\n",
    "#train[train.present_ip<>'not an ip'].head(50)\n",
    "#train[(train.ip_keywords==0) & (train.is_ip==1)].head()\n",
    "#train[train.is_ip==1]\n",
    "# internal ecnahcdroffilc net na false 255\n",
    "# internal ecnahcdroffilc net false 255\n",
    "# internal ecnahcdroffilc net true 255\n",
    "#train[train.present_ip<>'not an ip'].head(100)"
   ]
  },
  {
   "cell_type": "code",
   "execution_count": 849,
   "metadata": {
    "collapsed": false
   },
   "outputs": [],
   "source": [
    "#train[(train.ip_keywords==1) & (train.service_keywords==0)].ddl_1_keywords.value_counts()\n",
    "# nyc-fw-05\n",
    "#train[train.StringToExtract.isin (all_ips)]"
   ]
  },
  {
   "cell_type": "code",
   "execution_count": 12,
   "metadata": {
    "collapsed": true
   },
   "outputs": [],
   "source": [
    "def get_service_entity(row):\n",
    "    indx_1 = row.processed_desc.find('criticalservicedown\\r\\r\\n service')\n",
    "    indx_2 = row.processed_desc.find('criticalservicedown\\r\\r\\nseverity')\n",
    "    \n",
    "    indx_3 = row.processed_desc.find('\\r\\r\\ncisco prime lm admin')\n",
    "    indx_4 = row.processed_desc.find('cisco callnageram cisco ip phone')\n",
    "    \n",
    "    #ip_in_ips = row.present_ip in (all_ips)\n",
    "    \n",
    "    if( ((indx_1<>-1) | (indx_2<>-1))  ):\n",
    "        if(((indx_3<>-1) | (indx_4<>-1))):\n",
    "            return 0\n",
    "        else:\n",
    "            return 1\n",
    "    else:\n",
    "        return 0\n",
    "    \n",
    "train['service_keywords'] = train.apply(get_service_entity,axis=1)\n",
    "test['service_keywords'] = test.apply(get_service_entity,axis=1)"
   ]
  },
  {
   "cell_type": "code",
   "execution_count": 15,
   "metadata": {
    "collapsed": false
   },
   "outputs": [
    {
     "data": {
      "text/plain": [
       "(19, 7)"
      ]
     },
     "execution_count": 15,
     "metadata": {},
     "output_type": "execute_result"
    }
   ],
   "source": [
    "train[(train.service_keywords==1) & (train.StringToExtract=='service')].shape"
   ]
  },
  {
   "cell_type": "code",
   "execution_count": 735,
   "metadata": {
    "collapsed": false
   },
   "outputs": [
    {
     "name": "stdout",
     "output_type": "stream",
     "text": [
      "(19, 14)\n",
      "(43, 15)\n"
     ]
    }
   ],
   "source": [
    "print train[train.service_keywords==1].shape\n",
    "print test[test.service_keywords==1].shape"
   ]
  },
  {
   "cell_type": "code",
   "execution_count": 559,
   "metadata": {
    "collapsed": false
   },
   "outputs": [
    {
     "data": {
      "text/plain": [
       "(198, 14)"
      ]
     },
     "execution_count": 559,
     "metadata": {},
     "output_type": "execute_result"
    }
   ],
   "source": [
    "#train[(train.service_keywords==1)]\n",
    "test[(test.ip_keywords==1) & (test.service_keywords==0)].shape"
   ]
  },
  {
   "cell_type": "code",
   "execution_count": 56,
   "metadata": {
    "collapsed": false
   },
   "outputs": [
    {
     "name": "stdout",
     "output_type": "stream",
     "text": [
      "(245, 12)\n"
     ]
    },
    {
     "ename": "AttributeError",
     "evalue": "'DataFrame' object has no attribute 'is_ip'",
     "output_type": "error",
     "traceback": [
      "\u001b[0;31m---------------------------------------------------------------------------\u001b[0m",
      "\u001b[0;31mAttributeError\u001b[0m                            Traceback (most recent call last)",
      "\u001b[0;32m<ipython-input-56-2c19a9a67cd1>\u001b[0m in \u001b[0;36m<module>\u001b[0;34m()\u001b[0m\n\u001b[1;32m      1\u001b[0m \u001b[0;31m#print train[(train.ip_keywords==1) | (train.is_ip==1)].StringToExtract.value_counts()\u001b[0m\u001b[0;34m\u001b[0m\u001b[0;34m\u001b[0m\u001b[0m\n\u001b[1;32m      2\u001b[0m \u001b[0;32mprint\u001b[0m \u001b[0mtest\u001b[0m\u001b[0;34m[\u001b[0m\u001b[0mtest\u001b[0m\u001b[0;34m.\u001b[0m\u001b[0mip_keywords\u001b[0m\u001b[0;34m==\u001b[0m\u001b[0;36m1\u001b[0m\u001b[0;34m]\u001b[0m\u001b[0;34m.\u001b[0m\u001b[0mshape\u001b[0m\u001b[0;34m\u001b[0m\u001b[0m\n\u001b[0;32m----> 3\u001b[0;31m \u001b[0;32mprint\u001b[0m \u001b[0mtest\u001b[0m\u001b[0;34m[\u001b[0m\u001b[0;34m(\u001b[0m\u001b[0;34m(\u001b[0m\u001b[0mtest\u001b[0m\u001b[0;34m.\u001b[0m\u001b[0mip_keywords\u001b[0m\u001b[0;34m==\u001b[0m\u001b[0;36m1\u001b[0m\u001b[0;34m)\u001b[0m \u001b[0;34m|\u001b[0m \u001b[0;34m(\u001b[0m\u001b[0mtest\u001b[0m\u001b[0;34m.\u001b[0m\u001b[0mis_ip\u001b[0m\u001b[0;34m==\u001b[0m\u001b[0;36m1\u001b[0m\u001b[0;34m)\u001b[0m\u001b[0;34m)\u001b[0m \u001b[0;34m&\u001b[0m \u001b[0;34m(\u001b[0m\u001b[0mtest\u001b[0m\u001b[0;34m.\u001b[0m\u001b[0mfinal_string\u001b[0m\u001b[0;34m==\u001b[0m\u001b[0;34m'service'\u001b[0m\u001b[0;34m)\u001b[0m\u001b[0;34m]\u001b[0m\u001b[0;34m.\u001b[0m\u001b[0mshape\u001b[0m\u001b[0;34m\u001b[0m\u001b[0m\n\u001b[0m\u001b[1;32m      4\u001b[0m \u001b[0;31m#train[(train.ip_keywords==1)]\u001b[0m\u001b[0;34m\u001b[0m\u001b[0;34m\u001b[0m\u001b[0m\n\u001b[1;32m      5\u001b[0m \u001b[0;31m#train[train.StringToExtract=='service']\u001b[0m\u001b[0;34m\u001b[0m\u001b[0;34m\u001b[0m\u001b[0m\n",
      "\u001b[0;32m/Users/jeebanswain/anaconda2/lib/python2.7/site-packages/pandas/core/generic.pyc\u001b[0m in \u001b[0;36m__getattr__\u001b[0;34m(self, name)\u001b[0m\n\u001b[1;32m   2148\u001b[0m                 \u001b[0;32mreturn\u001b[0m \u001b[0mself\u001b[0m\u001b[0;34m[\u001b[0m\u001b[0mname\u001b[0m\u001b[0;34m]\u001b[0m\u001b[0;34m\u001b[0m\u001b[0m\n\u001b[1;32m   2149\u001b[0m             raise AttributeError(\"'%s' object has no attribute '%s'\" %\n\u001b[0;32m-> 2150\u001b[0;31m                                  (type(self).__name__, name))\n\u001b[0m\u001b[1;32m   2151\u001b[0m \u001b[0;34m\u001b[0m\u001b[0m\n\u001b[1;32m   2152\u001b[0m     \u001b[0;32mdef\u001b[0m \u001b[0m__setattr__\u001b[0m\u001b[0;34m(\u001b[0m\u001b[0mself\u001b[0m\u001b[0;34m,\u001b[0m \u001b[0mname\u001b[0m\u001b[0;34m,\u001b[0m \u001b[0mvalue\u001b[0m\u001b[0;34m)\u001b[0m\u001b[0;34m:\u001b[0m\u001b[0;34m\u001b[0m\u001b[0m\n",
      "\u001b[0;31mAttributeError\u001b[0m: 'DataFrame' object has no attribute 'is_ip'"
     ]
    }
   ],
   "source": [
    "#print train[(train.ip_keywords==1) | (train.is_ip==1)].StringToExtract.value_counts()\n",
    "print test[test.ip_keywords==1].shape\n",
    "print test[((test.ip_keywords==1) | (test.is_ip==1)) & (test.final_string=='service')].shape\n",
    "#train[(train.ip_keywords==1)]\n",
    "#train[train.StringToExtract=='service']"
   ]
  },
  {
   "cell_type": "code",
   "execution_count": 421,
   "metadata": {
    "collapsed": false
   },
   "outputs": [],
   "source": [
    "#train[train.StringToExtract=='10.200.3.68'].shape"
   ]
  },
  {
   "cell_type": "code",
   "execution_count": 422,
   "metadata": {
    "collapsed": false
   },
   "outputs": [],
   "source": [
    "#train[train.StringToExtract=='service']"
   ]
  },
  {
   "cell_type": "code",
   "execution_count": 428,
   "metadata": {
    "collapsed": false
   },
   "outputs": [
    {
     "data": {
      "text/plain": [
       "(43, 13)"
      ]
     },
     "execution_count": 428,
     "metadata": {},
     "output_type": "execute_result"
    }
   ],
   "source": [
    "test[(test.final_string=='service')].shape"
   ]
  },
  {
   "cell_type": "code",
   "execution_count": 328,
   "metadata": {
    "collapsed": false
   },
   "outputs": [
    {
     "name": "stdout",
     "output_type": "stream",
     "text": [
      "(5, 11)\n",
      "(8, 12)\n"
     ]
    }
   ],
   "source": [
    "print train[train.StringToExtract=='will'].shape\n",
    "print test[test.final_string=='will'].shape"
   ]
  },
  {
   "cell_type": "code",
   "execution_count": 330,
   "metadata": {
    "collapsed": false
   },
   "outputs": [],
   "source": [
    "#train[train.StringToExtract=='will']"
   ]
  },
  {
   "cell_type": "code",
   "execution_count": 161,
   "metadata": {
    "collapsed": false
   },
   "outputs": [
    {
     "data": {
      "text/plain": [
       "'By the Parking here is horrible, this shop sucks.'"
      ]
     },
     "execution_count": 161,
     "metadata": {},
     "output_type": "execute_result"
    }
   ],
   "source": [
    "\n",
    "bf4_1, term, after = x.partition('internal ecnahcdroffilc')\n",
    "bf4_1 = bf4_1.split()[-1]\n",
    "bf4_2, term, after = x.partition('ecnahcdroffilc com')\n",
    "bf4_2 = bf4_2.split()[-1]\n",
    "\n",
    "f_new = bf4_1 + bf4_2\n",
    "x"
   ]
  },
  {
   "cell_type": "code",
   "execution_count": 151,
   "metadata": {
    "collapsed": false
   },
   "outputs": [],
   "source": [
    "#error.processed_desc[3839]\n",
    "x = line \n",
    "bf4_1, term, after = x.partition('internal ecnahcdroffilc')\n",
    "bf4_1 = bf4_1.split()[-1]\n",
    "bf4_2, term, after = x.partition('ecnahcdroffilc com')\n",
    "bf4_2 = bf4_2.split()[-1]\n",
    "f_new = bf4_1 + bf4_2\n",
    "new_prefix = []\n",
    "for result in f_new:\n",
    "    new_prefix.append(result[0])\n"
   ]
  },
  {
   "cell_type": "code",
   "execution_count": 773,
   "metadata": {
    "collapsed": false
   },
   "outputs": [
    {
     "data": {
      "text/plain": [
       "(0, 14)"
      ]
     },
     "execution_count": 773,
     "metadata": {},
     "output_type": "execute_result"
    }
   ],
   "source": [
    "#test[test.final_string=='will']\n",
    "train[train.StringToExtract=='ddl-oionr-01'].shape"
   ]
  },
  {
   "cell_type": "code",
   "execution_count": 850,
   "metadata": {
    "collapsed": false
   },
   "outputs": [],
   "source": [
    "#train[train.is_ip==1]"
   ]
  },
  {
   "cell_type": "code",
   "execution_count": 616,
   "metadata": {
    "collapsed": false
   },
   "outputs": [
    {
     "data": {
      "text/plain": [
       "'not found'"
      ]
     },
     "execution_count": 616,
     "metadata": {},
     "output_type": "execute_result"
    }
   ],
   "source": [
    "### Error from regex == hkg-ev-14 was as hkg-mb-13\n",
    "# time\n",
    "# \n",
    "#samp =\"dns 2008/r2 troubleshoot ad ds and retry adding zone alert the dns server timed out attempting an active directory service operation on dc=luxesx02ilo,dc=internal.ecnahcdroffilc.net,cn=fotrscomidns,dc=domaindnszones,dc=internal,dc=ecnahcdroffilc,dc=net. check active directory to see that it is functioning properly. the event data contains the error.\\r\\r\\n fotrscomi.windows.dnsserver.library.server:lux-dc-02.internal.ecnahcdroffilc.net;lux-dc-02.internal.ecnahcdroffilc.net lux-dc-02.internal.ecnahcdroffilc.net true 255 2 1 na na configurationteahhl system 3-26-2017 2:07:33 am 3-26-2017 2:13:51 am 377 ddldonmocs\"\n",
    "#errored_pattern_0(samp)"
   ]
  },
  {
   "cell_type": "code",
   "execution_count": null,
   "metadata": {
    "collapsed": true
   },
   "outputs": [],
   "source": [
    "#train[train.StringToExtract==hkg-mb-14.internal]"
   ]
  },
  {
   "cell_type": "code",
   "execution_count": 770,
   "metadata": {
    "collapsed": false
   },
   "outputs": [
    {
     "data": {
      "text/plain": [
       "23079"
      ]
     },
     "execution_count": 770,
     "metadata": {},
     "output_type": "execute_result"
    }
   ],
   "source": [
    "#error\n",
    "3600\n",
    "5042\n",
    "5506\n",
    "9596\n",
    "12341\n",
    "13308\n",
    "14907\n",
    "18553\n",
    "20009\n",
    "21647\n",
    "23079"
   ]
  },
  {
   "cell_type": "code",
   "execution_count": 55,
   "metadata": {
    "collapsed": false
   },
   "outputs": [
    {
     "name": "stdout",
     "output_type": "stream",
     "text": [
      "202\n"
     ]
    }
   ],
   "source": [
    "best_sub = pd.read_csv('best_sub.csv')\n",
    "#all_test_ips = tra\n",
    "dd2 = pd.DataFrame(best_sub.StringToExtract.value_counts())\n",
    "dd2 = dd2.sort()\n",
    "#dd2\n",
    "all_ips_test = dd2.index[1:55].tolist()\n",
    "\n",
    "test['best_sub_String'] = best_sub.StringToExtract\n",
    "test['is_ip_best'] = np.where((test.best_sub_String.isin(all_ips_test) ) | ( (test.service_keywords==0) & (test.ip_keywords==1)),1,0)\n",
    "print sum(test.is_ip_best)\n",
    "#test['others'] = np.where ((test.is_ip_best==1),1,0)\n",
    "#print sum(np.where ((test.best_sub_String.isin(['will','internal']) | (test.is_ip_best==1)),1,0))\n",
    "#test['final_string'] = np.where(test.others==1,best_sub.StringToExtract,test.ddl_1_keywords)"
   ]
  },
  {
   "cell_type": "code",
   "execution_count": 886,
   "metadata": {
    "collapsed": false
   },
   "outputs": [
    {
     "data": {
      "text/plain": [
       "207"
      ]
     },
     "execution_count": 886,
     "metadata": {},
     "output_type": "execute_result"
    }
   ],
   "source": [
    "#test[(test.is_ip_best==1) | (test.ip_keywords==1)].shape\n",
    "sum(np.where((test.is_ip_best==1) | (test.ip_keywords==1),1,0))"
   ]
  },
  {
   "cell_type": "code",
   "execution_count": 770,
   "metadata": {
    "collapsed": false
   },
   "outputs": [],
   "source": [
    "#sum(np.where(test.best_sub_String.isin(all_ips_test),1,0)"
   ]
  },
  {
   "cell_type": "code",
   "execution_count": 603,
   "metadata": {
    "collapsed": false
   },
   "outputs": [],
   "source": [
    "#train[train.StringToExtract=='services'].shape"
   ]
  },
  {
   "cell_type": "code",
   "execution_count": 614,
   "metadata": {
    "collapsed": false
   },
   "outputs": [],
   "source": [
    "#train[train.StringToExtract=='services']"
   ]
  },
  {
   "cell_type": "code",
   "execution_count": 764,
   "metadata": {
    "collapsed": false
   },
   "outputs": [],
   "source": [
    "manual_correction_id = [87,178,3935,4142,4738,10930,12315,19132,21473,21903,23554,25332]\n",
    "test['final_string']  = np.where(test['id'].isin(manual_correction_id),test.xgb_String,test['final_string'])"
   ]
  },
  {
   "cell_type": "code",
   "execution_count": 889,
   "metadata": {
    "collapsed": false
   },
   "outputs": [
    {
     "data": {
      "text/html": [
       "<div>\n",
       "<table border=\"1\" class=\"dataframe\">\n",
       "  <thead>\n",
       "    <tr style=\"text-align: right;\">\n",
       "      <th></th>\n",
       "      <th>id</th>\n",
       "      <th>StringToExtract</th>\n",
       "    </tr>\n",
       "  </thead>\n",
       "  <tbody>\n",
       "    <tr>\n",
       "      <th>0</th>\n",
       "      <td>1</td>\n",
       "      <td>frapub2</td>\n",
       "    </tr>\n",
       "    <tr>\n",
       "      <th>1</th>\n",
       "      <td>2</td>\n",
       "      <td>lpap02z1</td>\n",
       "    </tr>\n",
       "    <tr>\n",
       "      <th>2</th>\n",
       "      <td>4</td>\n",
       "      <td>ddlsql43</td>\n",
       "    </tr>\n",
       "    <tr>\n",
       "      <th>3</th>\n",
       "      <td>5</td>\n",
       "      <td>ddl-ubs-28-ca-asw1</td>\n",
       "    </tr>\n",
       "    <tr>\n",
       "      <th>4</th>\n",
       "      <td>6</td>\n",
       "      <td>ddlsql43</td>\n",
       "    </tr>\n",
       "    <tr>\n",
       "      <th>5</th>\n",
       "      <td>8</td>\n",
       "      <td>ddlsql43</td>\n",
       "    </tr>\n",
       "    <tr>\n",
       "      <th>6</th>\n",
       "      <td>9</td>\n",
       "      <td>frapub2</td>\n",
       "    </tr>\n",
       "    <tr>\n",
       "      <th>7</th>\n",
       "      <td>10</td>\n",
       "      <td>ddlsql43</td>\n",
       "    </tr>\n",
       "    <tr>\n",
       "      <th>8</th>\n",
       "      <td>11</td>\n",
       "      <td>esc-spr4web-01</td>\n",
       "    </tr>\n",
       "    <tr>\n",
       "      <th>9</th>\n",
       "      <td>12</td>\n",
       "      <td>ddlsql43</td>\n",
       "    </tr>\n",
       "  </tbody>\n",
       "</table>\n",
       "</div>"
      ],
      "text/plain": [
       "   id     StringToExtract\n",
       "0   1             frapub2\n",
       "1   2            lpap02z1\n",
       "2   4            ddlsql43\n",
       "3   5  ddl-ubs-28-ca-asw1\n",
       "4   6            ddlsql43\n",
       "5   8            ddlsql43\n",
       "6   9             frapub2\n",
       "7  10            ddlsql43\n",
       "8  11      esc-spr4web-01\n",
       "9  12            ddlsql43"
      ]
     },
     "execution_count": 889,
     "metadata": {},
     "output_type": "execute_result"
    }
   ],
   "source": [
    "samplesubmission.StringToExtract = test.final_string\n",
    "#samplesubmission.StringToExtract \n",
    "samplesubmission.to_csv('all_regex_ip_rgex_try1.csv',index=False)\n",
    "samplesubmission.head(10)"
   ]
  },
  {
   "cell_type": "code",
   "execution_count": 767,
   "metadata": {
    "collapsed": false
   },
   "outputs": [],
   "source": [
    "#test[test['id'].isin(manual_correction_id)].head()"
   ]
  },
  {
   "cell_type": "code",
   "execution_count": null,
   "metadata": {
    "collapsed": false
   },
   "outputs": [],
   "source": [
    "## keywords to be replaced with will\n",
    "{'ddl-mocsgw-03',\n",
    " 'ddl-sim-02',\n",
    " 'esc-sim-01',\n",
    " 'hdr-sanmgt-01',\n",
    " 'hkg-mocsgw-01',\n",
    " 'hkg-sanmgt-01',\n",
    " 'nyc-sanmgt-01',\n",
    " 'was-sanmgt-01'}"
   ]
  },
  {
   "cell_type": "code",
   "execution_count": null,
   "metadata": {
    "collapsed": true
   },
   "outputs": [],
   "source": []
  },
  {
   "cell_type": "code",
   "execution_count": 511,
   "metadata": {
    "collapsed": false
   },
   "outputs": [
    {
     "name": "stdout",
     "output_type": "stream",
     "text": [
      "(9850, 1251)\n",
      "(21070, 1251)\n",
      "(9850, 12)\n",
      "(21070, 13)\n"
     ]
    }
   ],
   "source": [
    "#train.head()\n",
    "\n",
    "#Loading all the libraries\n",
    "import pyPdf\n",
    "import os\n",
    "import pandas as pd\n",
    "import string\n",
    "import numpy as np\n",
    "from nltk.corpus import stopwords\n",
    "import xgboost as xgb\n",
    "import operator\n",
    "\n",
    "all_processed_desc = train.processed_desc.append(test.processed_desc)\n",
    "#all_processed_desc = train1.processed_desc\n",
    "#creating tfidf \n",
    "from sklearn.feature_extraction.text import CountVectorizer\n",
    "\n",
    "vectorizer = CountVectorizer(#analyzer = \"word\",   \\\n",
    "                             #tokenizer = None,    \\\n",
    "                             #preprocessor = None, \\\n",
    "                             #stop_words = None,   \\\n",
    "                             max_features = 10000, \\\n",
    "                             ngram_range= (1,2)\n",
    "                            ) \n",
    "\n",
    "train_test_tdidf_features = vectorizer.fit_transform(all_processed_desc)\n",
    "train_test_tdidf_features = train_test_tdidf_features.toarray()\n",
    "\n",
    "df_train_test_tfidf_features = pd.DataFrame(train_test_tdidf_features)\n",
    "df_train_test_tfidf_features.columns = vectorizer.get_feature_names()\n",
    "\n",
    "df_train_test_tfidf_features = df_train_test_tfidf_features[final_features1]\n",
    "#train1_tfidf = vectorizer.transform(train1.processed_desc)\n",
    "#train2_tfidf = vectorizer.transform(train2.processed_desc)\n",
    "\n",
    "df_train = df_train_test_tfidf_features[0:9850]\n",
    "df_test = df_train_test_tfidf_features[9850:]\n",
    "\n",
    "print df_train.shape\n",
    "print df_test.shape\n",
    "\n",
    "print train.shape\n",
    "print test.shape"
   ]
  },
  {
   "cell_type": "code",
   "execution_count": 510,
   "metadata": {
    "collapsed": false
   },
   "outputs": [
    {
     "data": {
      "text/plain": [
       "['hkg_cca4_sf1', 'hkg_cca4_sf2', 'ddl_sys_04', 'esc_evt_02']"
      ]
     },
     "execution_count": 510,
     "metadata": {},
     "output_type": "execute_result"
    }
   ],
   "source": [
    "final_features = set(all_ent) & set(df_train.columns)\n",
    "#train[train.StringToExtract=='nyc-cca3zdc-01']\n",
    "#set(df_train.columns)\n",
    "final_features1 = list(final_features)\n",
    "final_features1[0:4]"
   ]
  },
  {
   "cell_type": "code",
   "execution_count": 524,
   "metadata": {
    "collapsed": true
   },
   "outputs": [],
   "source": [
    "from sklearn.svm import SVC, LinearSVC, NuSVC\n",
    "\n",
    "clf = LinearSVC(C=3)\n",
    "clf.fit(df_train,train.StringToExtract)\n",
    "svm_lavel_test =clf.predict(df_test)\n",
    "svm_lavel_train =clf.predict(df_train)\n",
    "\n",
    "train_xgb_String = svm_lavel_train\n",
    "test_xgb_String = svm_lavel_test"
   ]
  },
  {
   "cell_type": "code",
   "execution_count": 534,
   "metadata": {
    "collapsed": true
   },
   "outputs": [],
   "source": [
    "train['xgb_String'] = train_xgb_String\n",
    "test['xgb_String'] = test_xgb_String"
   ]
  },
  {
   "cell_type": "code",
   "execution_count": 547,
   "metadata": {
    "collapsed": false
   },
   "outputs": [
    {
     "data": {
      "text/plain": [
       "ccsearch      14\n",
       "knowledge     13\n",
       "knowwho        9\n",
       "internal       3\n",
       "will           3\n",
       "hkg-mb-14      2\n",
       "ddl-ch-v03     1\n",
       "dtype: int64"
      ]
     },
     "execution_count": 547,
     "metadata": {},
     "output_type": "execute_result"
    }
   ],
   "source": [
    "#train[train.is_ip==1].shape\n",
    "train[(train.StringToExtract<>train.xgb_String) &  (train.is_ip==0) ].StringToExtract.value_counts()"
   ]
  },
  {
   "cell_type": "code",
   "execution_count": 631,
   "metadata": {
    "collapsed": false
   },
   "outputs": [],
   "source": [
    "#train[train.StringToExtract=='ddl-ch-v03']"
   ]
  },
  {
   "cell_type": "code",
   "execution_count": 594,
   "metadata": {
    "collapsed": false
   },
   "outputs": [
    {
     "data": {
      "text/html": [
       "<div>\n",
       "<table border=\"1\" class=\"dataframe\">\n",
       "  <thead>\n",
       "    <tr style=\"text-align: right;\">\n",
       "      <th></th>\n",
       "      <th>id</th>\n",
       "      <th>description</th>\n",
       "      <th>processed_desc</th>\n",
       "      <th>present_ip</th>\n",
       "      <th>ddl_0_keywords</th>\n",
       "      <th>ddl_1_keywords</th>\n",
       "      <th>ddl_2_keywords</th>\n",
       "      <th>ddl_3_keywords</th>\n",
       "      <th>xgb_String</th>\n",
       "      <th>best_sub_String</th>\n",
       "      <th>is_ip</th>\n",
       "      <th>others</th>\n",
       "      <th>final_string</th>\n",
       "    </tr>\n",
       "  </thead>\n",
       "  <tbody>\n",
       "  </tbody>\n",
       "</table>\n",
       "</div>"
      ],
      "text/plain": [
       "Empty DataFrame\n",
       "Columns: [id, description, processed_desc, present_ip, ddl_0_keywords, ddl_1_keywords, ddl_2_keywords, ddl_3_keywords, xgb_String, best_sub_String, is_ip, others, final_string]\n",
       "Index: []"
      ]
     },
     "execution_count": 594,
     "metadata": {},
     "output_type": "execute_result"
    }
   ],
   "source": [
    "test[test.final_string=='ddl-ch-v03']"
   ]
  },
  {
   "cell_type": "code",
   "execution_count": null,
   "metadata": {
    "collapsed": true
   },
   "outputs": [],
   "source": [
    "## Manual correction -- ID - 25398 with time\n",
    "## 8726 - will"
   ]
  },
  {
   "cell_type": "code",
   "execution_count": 560,
   "metadata": {
    "collapsed": false
   },
   "outputs": [
    {
     "name": "stdout",
     "output_type": "stream",
     "text": [
      "(130, 12)\n",
      "(20898, 13)\n",
      "(21070, 13)\n",
      "99.1836734694\n"
     ]
    }
   ],
   "source": [
    "print train[train.StringToExtract<>train.xgb_String].shape\n",
    "print test[(test.final_string==test.xgb_String) | (test.is_ip==1)].shape\n",
    "print test.shape\n",
    "\n",
    "print 100*20898.0/test.shape[0]"
   ]
  },
  {
   "cell_type": "code",
   "execution_count": 587,
   "metadata": {
    "collapsed": false
   },
   "outputs": [],
   "source": [
    "#test[test.xgb_String=='will']"
   ]
  },
  {
   "cell_type": "code",
   "execution_count": null,
   "metadata": {
    "collapsed": false
   },
   "outputs": [],
   "source": [
    "#train['StringToExtract_final'] = train.apply(extract_string,axis=1)\n",
    "test['StringToExtract_final'] = test.apply(extract_string,axis=1)\n",
    "print sum(np.where(train.StringToExtract==train.StringToExtract_final,0,1))\n",
    "train['error'] = np.where(train.StringToExtract==train.StringToExtract_final,0,1)"
   ]
  },
  {
   "cell_type": "code",
   "execution_count": null,
   "metadata": {
    "collapsed": false
   },
   "outputs": [],
   "source": [
    "#test[test.StringToExtract_final=='hkg-ev-14']"
   ]
  },
  {
   "cell_type": "code",
   "execution_count": null,
   "metadata": {
    "collapsed": false
   },
   "outputs": [],
   "source": [
    "samplesubmission.StringToExtract = test.StringToExtract_final\n",
    "samplesubmission.to_csv('SVM_with_Precedence_v9.csv',index=False)\n",
    "samplesubmission.head(10)"
   ]
  },
  {
   "cell_type": "code",
   "execution_count": null,
   "metadata": {
    "collapsed": false
   },
   "outputs": [],
   "source": [
    "## Post Analysis\n",
    "\n",
    "print test[test.ddl_1_keywords<>test.StringToExtract_final].shape[0]\n",
    "print test.shape[0]\n",
    "\n",
    "100*(20769.0/21070)"
   ]
  },
  {
   "cell_type": "code",
   "execution_count": null,
   "metadata": {
    "collapsed": false
   },
   "outputs": [],
   "source": [
    "ddl_not_as_final = test[(test.ddl_1_keywords<>test.StringToExtract_final) & \n",
    "                        (test.present_ip<>test.StringToExtract_final) & (test.StringToExtract_final<>'service') ]\n",
    "print ddl_not_as_final.shape\n",
    "print 100*(1-57.00/21070)"
   ]
  },
  {
   "cell_type": "code",
   "execution_count": null,
   "metadata": {
    "collapsed": false
   },
   "outputs": [],
   "source": [
    "#ddl_not_as_final.StringToExtract_final.value_counts()\n",
    "#100*(57.00/21070) + 99.473\n",
    "#test.StringToExtract_final.value_counts()\n",
    "100*(43.0/21070)+99.473"
   ]
  },
  {
   "cell_type": "code",
   "execution_count": null,
   "metadata": {
    "collapsed": false
   },
   "outputs": [],
   "source": [
    "test['Pre_final_String'] = np.where(((test.ddl_1_keywords==test.StringToExtract_final) |\n",
    "                        (test.present_ip==test.StringToExtract_final) |\n",
    "                                    (test.StringToExtract_final<>'service')),test.StringToExtract_final,'not matched')"
   ]
  },
  {
   "cell_type": "code",
   "execution_count": null,
   "metadata": {
    "collapsed": true
   },
   "outputs": [],
   "source": [
    "samplesubmission.StringToExtract = test.Pre_final_String\n",
    "samplesubmission.head(10)\n",
    "samplesubmission.to_csv('Jeeban_XGB_with_Precedence_v8.csv',index=False)"
   ]
  },
  {
   "cell_type": "code",
   "execution_count": null,
   "metadata": {
    "collapsed": false
   },
   "outputs": [],
   "source": [
    "#test.Pre_final_String.value_counts()\n",
    "99.473"
   ]
  },
  {
   "cell_type": "code",
   "execution_count": null,
   "metadata": {
    "collapsed": false
   },
   "outputs": [],
   "source": [
    "#samplesubmission[samplesubmission.StringToExtract=='psha2532']"
   ]
  },
  {
   "cell_type": "code",
   "execution_count": null,
   "metadata": {
    "collapsed": true
   },
   "outputs": [],
   "source": [
    "train.to_csv('featured_train.csv',index=False)"
   ]
  },
  {
   "cell_type": "code",
   "execution_count": null,
   "metadata": {
    "collapsed": false
   },
   "outputs": [],
   "source": [
    "test_error = test[test.StringToExtract_final<>test.ddl_1_keywords]\n",
    "train_error = train[train.StringToExtract<>train.ddl_1_keywords]"
   ]
  },
  {
   "cell_type": "code",
   "execution_count": null,
   "metadata": {
    "collapsed": false
   },
   "outputs": [],
   "source": [
    "#train_error"
   ]
  },
  {
   "cell_type": "code",
   "execution_count": null,
   "metadata": {
    "collapsed": false
   },
   "outputs": [],
   "source": [
    "train1 = train.sample(frac=0.7)\n",
    "train2 = train[~train.index.isin (train1.index)]\n",
    "print train1.shape\n",
    "print train2.shape\n",
    "print train1.is_matched.mean()\n",
    "print train2.is_matched.mean()"
   ]
  },
  {
   "cell_type": "code",
   "execution_count": 449,
   "metadata": {
    "collapsed": false
   },
   "outputs": [
    {
     "data": {
      "text/plain": [
       "[u'and',\n",
       " u'document',\n",
       " u'first',\n",
       " u'is',\n",
       " u'ond',\n",
       " u'one',\n",
       " u'sec',\n",
       " u'second',\n",
       " u'the',\n",
       " u'third',\n",
       " u'this']"
      ]
     },
     "execution_count": 449,
     "metadata": {},
     "output_type": "execute_result"
    }
   ],
   "source": [
    "#help(CountVectorizer)\n",
    "#samp = 'my new text is like this love\\\\I want to do'\n",
    "#vectorizer.fit_transform(samp)\n",
    "corpus = [\n",
    "     'This is the first document.',\n",
    "     'This is the second sec.ond document.',\n",
    "     'And the third one.',\n",
    "     'Is this the first document?',\n",
    " ]\n",
    "X = vectorizer.fit_transform(corpus)\n",
    "vectorizer.get_feature_names()"
   ]
  },
  {
   "cell_type": "code",
   "execution_count": null,
   "metadata": {
    "collapsed": false
   },
   "outputs": [],
   "source": [
    "#train.head()\n",
    "\n",
    "#Loading all the libraries\n",
    "import pyPdf\n",
    "import os\n",
    "import pandas as pd\n",
    "import string\n",
    "import numpy as np\n",
    "from nltk.corpus import stopwords\n",
    "import xgboost as xgb\n",
    "import operator\n",
    "\n",
    "all_processed_desc = train.processed_desc.append(test.processed_desc)\n",
    "#all_processed_desc = train1.processed_desc\n",
    "#creating tfidf \n",
    "from sklearn.feature_extraction.text import CountVectorizer\n",
    "\n",
    "vectorizer = CountVectorizer(analyzer = \"word\",   \\\n",
    "                             tokenizer = None,    \\\n",
    "                             preprocessor = None, \\\n",
    "                             stop_words = None,   \\\n",
    "                             #max_features = 10000, \\\n",
    "                             ngram_range= (1,2)\n",
    "                            ) \n",
    "\n",
    "train_test_tdidf_features = vectorizer.fit_transform(all_processed_desc)\n",
    "train_test_tdidf_features = train_test_tdidf_features.toarray()\n",
    "\n",
    "df_train_test_tfidf_features = pd.DataFrame(train_test_tdidf_features)\n",
    "df_train_test_tfidf_features.columns = vectorizer.get_feature_names()\n",
    "\n",
    "train1_tfidf = vectorizer.transform(train1.processed_desc)\n",
    "train2_tfidf = vectorizer.transform(train2.processed_desc)\n",
    "\n",
    "#df_train = df_train_test_tfidf_features[0:9850]\n",
    "#df_test = df_train_test_tfidf_features[9850:]\n",
    "\n",
    "#print df_train.shape\n",
    "#print df_test.shape\n",
    "\n",
    "print train.shape\n",
    "print test.shape"
   ]
  },
  {
   "cell_type": "code",
   "execution_count": null,
   "metadata": {
    "collapsed": false
   },
   "outputs": [],
   "source": [
    "#imp_features = df.feature\n",
    "#d_train = xgb.DMatrix(df_train_test_tfidf_features[imp_features], label=train.String_Class) ## 2nd run imp features\n",
    "d_train = xgb.DMatrix(train1_tfidf, label=train1.is_ip)\n",
    "\n",
    "params = {}\n",
    "#params['objective'] = 'binary:logistic'\n",
    "params['objective'] = 'multi:softmax'\n",
    "#params['objective'] = 'multi:softprob'\n",
    "params['eval_metric'] = 'merror'\n",
    "params['eta'] = 0.2\n",
    "params['max_depth'] = 10\n",
    "params[\"subsample\"] = 0.7\n",
    "params['num_class'] = 2 # 12 Classes\n",
    "params[\"min_child_weight\"] = 0.01\n",
    "params[\"colsample_bytree\"] = 0.8\n",
    "#model = xgb.cv(dtrain=d_train,nfold=6,params=params,num_boost_round=200)\n",
    "model = xgb.train(dtrain=d_train,params=params,num_boost_round=10)"
   ]
  },
  {
   "cell_type": "code",
   "execution_count": null,
   "metadata": {
    "collapsed": false
   },
   "outputs": [],
   "source": [
    "def extract_string(row):\n",
    "    if(row.xgb_String==0):\n",
    "        return row.present_ip\n",
    "    \n",
    "    elif(row.xgb_String==1):\n",
    "        return 'service'\n",
    "    \n",
    "    elif(row.xgb_String==2):\n",
    "        return 'internal'\n",
    "    \n",
    "    elif(row.xgb_String==3):\n",
    "        return 'will'\n",
    "    \n",
    "    elif(row.xgb_String==4):\n",
    "        return 'author'\n",
    "    \n",
    "    elif(row.xgb_String==5):\n",
    "        return 'error'\n",
    "    \n",
    "    elif(row.xgb_String==6):\n",
    "        return 'connect'\n",
    "    \n",
    "    elif(row.xgb_String==7):\n",
    "        return 'onlineservices'\n",
    "    \n",
    "    elif(row.xgb_String==8):\n",
    "        return 'hkg-ev-14'\n",
    "    \n",
    "    elif(row.xgb_String==9):\n",
    "        return 'ddl-dc-03'\n",
    "    \n",
    "    elif(row.xgb_String==10):\n",
    "        return 'hkg-mb-14'\n",
    "    \n",
    "    \n",
    "    elif(row.xgb_String==11):\n",
    "        return 'ddl-bnt-01'\n",
    "    \n",
    "    elif(row.xgb_String==12):\n",
    "        return 'hkg-dcr-02'\n",
    "    \n",
    "    elif(row.xgb_String==13):\n",
    "        return 'au-per-07a-stap-01'\n",
    "    \n",
    "    elif(row.xgb_String==14):\n",
    "        return 'time' \n",
    "    \n",
    "    elif(row.xgb_String==15):\n",
    "        return 'hdr-mb-16'\n",
    "    \n",
    "    elif(row.xgb_String==16):\n",
    "        return 'bru-dc-02'\n",
    "    \n",
    "    elif(row.xgb_String==17):\n",
    "        return 'dub-dc-03'\n",
    "    \n",
    "    elif(row.xgb_String==18):\n",
    "        return 'dc=internal'\n",
    "    \n",
    "    elif(row.xgb_String==19):\n",
    "        return 'esc-mb-03'\n",
    "    \n",
    "    elif(row.xgb_String==20):\n",
    "        return 'esc-mb-04'"
   ]
  },
  {
   "cell_type": "code",
   "execution_count": null,
   "metadata": {
    "collapsed": false
   },
   "outputs": [],
   "source": [
    "import warnings\n",
    "warnings.filterwarnings('ignore')\n",
    "\n",
    "def get_final_class(x):\n",
    "    if(x=='hkg-dcr-02'):\n",
    "        return 1\n",
    "    else:\n",
    "        return 0\n",
    "train1['final_class'] = train1.StringToExtract.apply(get_final_class)\n",
    "train2['final_class'] = train2.StringToExtract.apply(get_final_class)\n",
    "print train1['final_class'].sum()\n",
    "print train2['final_class'].sum()\n",
    "\n",
    "from sklearn.svm import SVC, LinearSVC, NuSVC\n",
    "\n",
    "clf = LinearSVC(C=0.01)\n",
    "clf.fit(train1_tfidf,train1.final_class)\n",
    "svm_lavel_test =clf.predict(train2_tfidf)\n",
    "train2_xgb_String = svm_lavel_test\n",
    "train2_xgb_String\n",
    "train2['predicted_final_class'] = train2_xgb_String\n",
    "\n",
    "print train2[train2.final_class<>train2.predicted_final_class].shape[0]\n",
    "print train2.shape[0]\n"
   ]
  },
  {
   "cell_type": "code",
   "execution_count": null,
   "metadata": {
    "collapsed": false
   },
   "outputs": [],
   "source": [
    "#train2[train2.final_class<>train2.predicted_final_class]\n",
    "#train[train.StringToExtract=='hkg-ev-14'].shape\n",
    "test[(test.ddl_1_keywords<>test.StringToExtract_final)].shape"
   ]
  },
  {
   "cell_type": "code",
   "execution_count": null,
   "metadata": {
    "collapsed": false
   },
   "outputs": [],
   "source": [
    "100*301.0/test.shape[0]"
   ]
  },
  {
   "cell_type": "code",
   "execution_count": null,
   "metadata": {
    "collapsed": false
   },
   "outputs": [],
   "source": [
    "test[test.StringToExtract_final=='hkg-ev-14'].shape"
   ]
  },
  {
   "cell_type": "code",
   "execution_count": null,
   "metadata": {
    "collapsed": true
   },
   "outputs": [],
   "source": [
    "#will = 14\n",
    "#eternal = 7\n",
    "#hkg-ev-14 = 7\n",
    "#ddl-dc-03 = 7\n",
    "#hkg-dcr-02 =7\n",
    "#hdr-mb-16 =7\n"
   ]
  },
  {
   "cell_type": "code",
   "execution_count": null,
   "metadata": {
    "collapsed": false
   },
   "outputs": [],
   "source": [
    "#train2[train2.predicted_final_class==0].shape\n",
    "#test.columns"
   ]
  },
  {
   "cell_type": "code",
   "execution_count": null,
   "metadata": {
    "collapsed": false
   },
   "outputs": [],
   "source": [
    "print train[train.StringToExtract=='internal'].shape\n",
    "print test[test.StringToExtract_final=='internal'].shape"
   ]
  },
  {
   "cell_type": "code",
   "execution_count": null,
   "metadata": {
    "collapsed": false
   },
   "outputs": [],
   "source": [
    "#test[test.StringToExtract_final=='internal']"
   ]
  },
  {
   "cell_type": "code",
   "execution_count": null,
   "metadata": {
    "collapsed": false
   },
   "outputs": [],
   "source": [
    "print test[test.ddl_1_keywords=='will'].shape\n",
    "print train[train.ddl_1_keywords=='will'].shape\n",
    "\n",
    "#test.shape[0]*5.0/9850"
   ]
  },
  {
   "cell_type": "code",
   "execution_count": null,
   "metadata": {
    "collapsed": false
   },
   "outputs": [],
   "source": [
    "test.shape[0]*1.0/2955"
   ]
  },
  {
   "cell_type": "code",
   "execution_count": null,
   "metadata": {
    "collapsed": true
   },
   "outputs": [],
   "source": [
    "from sklearn.svm import SVC, LinearSVC, NuSVC\n",
    "\n",
    "clf = LinearSVC(C=1)\n",
    "clf.fit(df_train,train.is_ip)\n",
    "svm_lavel_test =clf.predict(df_test)\n",
    "test['predicted_ip'] = svm_lavel_test"
   ]
  },
  {
   "cell_type": "code",
   "execution_count": null,
   "metadata": {
    "collapsed": false
   },
   "outputs": [],
   "source": [
    "#test.shape"
   ]
  },
  {
   "cell_type": "code",
   "execution_count": null,
   "metadata": {
    "collapsed": false
   },
   "outputs": [],
   "source": [
    "#train[train.is_ip==1].shape\n",
    "120.0/9850"
   ]
  },
  {
   "cell_type": "code",
   "execution_count": null,
   "metadata": {
    "collapsed": false
   },
   "outputs": [],
   "source": [
    "print test[(test.xgb_String==0)].shape\n",
    "print test[(test.predicted_ip==1) & (test.xgb_String==0)].shape"
   ]
  },
  {
   "cell_type": "code",
   "execution_count": null,
   "metadata": {
    "collapsed": false
   },
   "outputs": [],
   "source": [
    "100*201.0/21070"
   ]
  },
  {
   "cell_type": "code",
   "execution_count": null,
   "metadata": {
    "collapsed": false
   },
   "outputs": [],
   "source": [
    "#print train1.is_ip.value_counts()\n",
    "#print train2.is_ip.value_counts()\n",
    "#train2.shape[0]*0.000725\n",
    "\n",
    "train1_xgb = xgb.DMatrix(train1_tfidf)\n",
    "train1_xgb_String = np.array(model.predict(train1_xgb),dtype='int').tolist()\n",
    "train1['predicted_ip'] = train1_xgb_String\n",
    "\n",
    "train2_xgb = xgb.DMatrix(train2_tfidf)\n",
    "train2_xgb_String = np.array(model.predict(train2_xgb),dtype='int').tolist()\n",
    "train2['predicted_ip'] = train2_xgb_String\n",
    "\n",
    "\n",
    "#train1_xgb_String"
   ]
  },
  {
   "cell_type": "code",
   "execution_count": null,
   "metadata": {
    "collapsed": false
   },
   "outputs": [],
   "source": [
    "print train2[train2.is_ip<>train2.predicted_ip].shape[0]\n",
    "print train2.shape[0]\n",
    "print test.shape[0]*(4.0/2955)\n",
    "print 100*(4.0/2955)"
   ]
  },
  {
   "cell_type": "code",
   "execution_count": null,
   "metadata": {
    "collapsed": false
   },
   "outputs": [],
   "source": [
    "#print train2.is_ip.sum()\n",
    "#print train2.shape\n",
    "#print 100*34/2955.0"
   ]
  },
  {
   "cell_type": "code",
   "execution_count": null,
   "metadata": {
    "collapsed": false
   },
   "outputs": [],
   "source": [
    "#train2[train2.is_ip==1]\n",
    "#train2.head()"
   ]
  },
  {
   "cell_type": "code",
   "execution_count": null,
   "metadata": {
    "collapsed": false
   },
   "outputs": [],
   "source": [
    "#train[train.StringToExtract=='will']\n",
    "#test.predicted_ip.sum()"
   ]
  },
  {
   "cell_type": "code",
   "execution_count": null,
   "metadata": {
    "collapsed": false
   },
   "outputs": [],
   "source": [
    "#test.head()"
   ]
  },
  {
   "cell_type": "code",
   "execution_count": null,
   "metadata": {
    "collapsed": true
   },
   "outputs": [],
   "source": [
    "test['final_String'] = test.ddl_1_keywords"
   ]
  },
  {
   "cell_type": "code",
   "execution_count": null,
   "metadata": {
    "collapsed": true
   },
   "outputs": [],
   "source": [
    "test['final_String'] = np.where(test.predicted_ip==1,test.StringToExtract_final,test.final_String)"
   ]
  },
  {
   "cell_type": "code",
   "execution_count": null,
   "metadata": {
    "collapsed": true
   },
   "outputs": [],
   "source": [
    "test['final_String'] = np.where(test.StringToExtract_final=='service',test.StringToExtract_final,test.final_String)"
   ]
  },
  {
   "cell_type": "code",
   "execution_count": null,
   "metadata": {
    "collapsed": true
   },
   "outputs": [],
   "source": [
    "test['final_String'] = np.where(test.StringToExtract_final==test.final_String,test.final_String,'to be matched')"
   ]
  },
  {
   "cell_type": "code",
   "execution_count": null,
   "metadata": {
    "collapsed": false
   },
   "outputs": [],
   "source": [
    "#test[test.StringToExtract_final<>'to be matched']"
   ]
  },
  {
   "cell_type": "code",
   "execution_count": null,
   "metadata": {
    "collapsed": false
   },
   "outputs": [],
   "source": [
    "100*57.0/test.shape[0]"
   ]
  },
  {
   "cell_type": "code",
   "execution_count": null,
   "metadata": {
    "collapsed": false
   },
   "outputs": [],
   "source": [
    "#test[test.final_String=='to be matched']\n",
    "100*15.0/test.shape[0]\n",
    "99.76+0.071"
   ]
  },
  {
   "cell_type": "code",
   "execution_count": 359,
   "metadata": {
    "collapsed": false
   },
   "outputs": [
    {
     "data": {
      "text/plain": [
       "Index([u'id', u'description', u'processed_desc', u'present_ip',\n",
       "       u'ddl_0_keywords', u'ddl_1_keywords', u'ddl_2_keywords',\n",
       "       u'ddl_3_keywords', u'best_sub_String', u'is_ip', u'others',\n",
       "       u'final_string'],\n",
       "      dtype='object')"
      ]
     },
     "execution_count": 359,
     "metadata": {},
     "output_type": "execute_result"
    }
   ],
   "source": [
    "test.columns"
   ]
  },
  {
   "cell_type": "code",
   "execution_count": 632,
   "metadata": {
    "collapsed": false
   },
   "outputs": [
    {
     "data": {
      "text/html": [
       "<div>\n",
       "<table border=\"1\" class=\"dataframe\">\n",
       "  <thead>\n",
       "    <tr style=\"text-align: right;\">\n",
       "      <th></th>\n",
       "      <th>id</th>\n",
       "      <th>StringToExtract</th>\n",
       "    </tr>\n",
       "  </thead>\n",
       "  <tbody>\n",
       "    <tr>\n",
       "      <th>0</th>\n",
       "      <td>1</td>\n",
       "      <td>frapub2</td>\n",
       "    </tr>\n",
       "    <tr>\n",
       "      <th>1</th>\n",
       "      <td>2</td>\n",
       "      <td>lpap02z1</td>\n",
       "    </tr>\n",
       "    <tr>\n",
       "      <th>2</th>\n",
       "      <td>4</td>\n",
       "      <td>ddlsql43</td>\n",
       "    </tr>\n",
       "    <tr>\n",
       "      <th>3</th>\n",
       "      <td>5</td>\n",
       "      <td>ddl-ubs-28-ca-asw1</td>\n",
       "    </tr>\n",
       "    <tr>\n",
       "      <th>4</th>\n",
       "      <td>6</td>\n",
       "      <td>ddlsql43</td>\n",
       "    </tr>\n",
       "    <tr>\n",
       "      <th>5</th>\n",
       "      <td>8</td>\n",
       "      <td>ddlsql43</td>\n",
       "    </tr>\n",
       "    <tr>\n",
       "      <th>6</th>\n",
       "      <td>9</td>\n",
       "      <td>frapub2</td>\n",
       "    </tr>\n",
       "    <tr>\n",
       "      <th>7</th>\n",
       "      <td>10</td>\n",
       "      <td>ddlsql43</td>\n",
       "    </tr>\n",
       "    <tr>\n",
       "      <th>8</th>\n",
       "      <td>11</td>\n",
       "      <td>esc-spr4web-01</td>\n",
       "    </tr>\n",
       "    <tr>\n",
       "      <th>9</th>\n",
       "      <td>12</td>\n",
       "      <td>ddlsql43</td>\n",
       "    </tr>\n",
       "  </tbody>\n",
       "</table>\n",
       "</div>"
      ],
      "text/plain": [
       "   id     StringToExtract\n",
       "0   1             frapub2\n",
       "1   2            lpap02z1\n",
       "2   4            ddlsql43\n",
       "3   5  ddl-ubs-28-ca-asw1\n",
       "4   6            ddlsql43\n",
       "5   8            ddlsql43\n",
       "6   9             frapub2\n",
       "7  10            ddlsql43\n",
       "8  11      esc-spr4web-01\n",
       "9  12            ddlsql43"
      ]
     },
     "execution_count": 632,
     "metadata": {},
     "output_type": "execute_result"
    }
   ],
   "source": [
    "samplesubmission.StringToExtract = test.final_string\n",
    "#samplesubmission.StringToExtract \n",
    "samplesubmission.to_csv('final_version_v_new.csv',index=False)\n",
    "samplesubmission.head(10)"
   ]
  },
  {
   "cell_type": "code",
   "execution_count": null,
   "metadata": {
    "collapsed": false
   },
   "outputs": [],
   "source": [
    "print error.StringToExtract.value_counts()"
   ]
  },
  {
   "cell_type": "code",
   "execution_count": null,
   "metadata": {
    "collapsed": false
   },
   "outputs": [],
   "source": [
    "error_sample = train[(train.is_matched==0) & (train.is_ip==0) & (train.StringToExtract<>'service') & (train.StringToExtract<>'will')]\n",
    "print error_sample.StringToExtract.value_counts()\n",
    "print train[train.StringToExtract=='hkg-ev-14'].shape"
   ]
  },
  {
   "cell_type": "code",
   "execution_count": null,
   "metadata": {
    "collapsed": false
   },
   "outputs": [],
   "source": [
    "#train[train.StringToExtract=='will']\n",
    "train_will = train[train.StringToExtract=='hkg-ev-14']\n",
    "train_not_will = train[train.StringToExtract<>'hkg-ev-14']\n",
    "all_will_string = set(train_will.processed_desc.str.cat(sep=' ').split(' '))\n",
    "all_not_will_string = set(train_not_will.processed_desc.str.cat(sep=' ').split(' '))\n",
    "unq_word = all_will_string - all_not_will_string\n",
    "unq_word"
   ]
  },
  {
   "cell_type": "code",
   "execution_count": 786,
   "metadata": {
    "collapsed": false
   },
   "outputs": [
    {
     "data": {
      "text/plain": [
       "{'\\r\\r\\nnode',\n",
       " '***************',\n",
       " '0\\r\\r\\nworking',\n",
       " '1\\r\\r\\n\\r\\r\\n',\n",
       " '10809',\n",
       " '11090',\n",
       " '11106',\n",
       " '11896',\n",
       " '12309',\n",
       " '131399',\n",
       " '131400',\n",
       " '132093',\n",
       " '14401',\n",
       " '146)',\n",
       " '15-signaling',\n",
       " '17071',\n",
       " '18219',\n",
       " '19187',\n",
       " '196\\\\cisco',\n",
       " '19932',\n",
       " '2017,',\n",
       " '20837',\n",
       " '2114x',\n",
       " '21882',\n",
       " '21992',\n",
       " '221799',\n",
       " '2260',\n",
       " '22717',\n",
       " '228)',\n",
       " '23646',\n",
       " '24329',\n",
       " '2472',\n",
       " '25)',\n",
       " '25143',\n",
       " '252)',\n",
       " '26)',\n",
       " '2615037',\n",
       " '2656057',\n",
       " '27)',\n",
       " '27243',\n",
       " '3376',\n",
       " '390',\n",
       " '403144',\n",
       " '409400',\n",
       " '41\\\\1352\\\\\\r\\r\\n\\r\\r\\n\\r\\r\\none',\n",
       " '455',\n",
       " '50\\r\\r\\n\\r\\r\\n',\n",
       " '50%',\n",
       " '500',\n",
       " '500\\r\\r\\n\\r\\r\\n',\n",
       " '612886',\n",
       " '615592',\n",
       " '632695',\n",
       " '634495',\n",
       " '649797',\n",
       " '657885',\n",
       " '658793',\n",
       " '66214',\n",
       " '689387',\n",
       " '68\\\\process',\n",
       " '70)',\n",
       " '7221',\n",
       " '8659',\n",
       " '89)',\n",
       " '91)',\n",
       " '96)',\n",
       " '\\\\\\\\10',\n",
       " 'admin,connection',\n",
       " 'administration,cisco',\n",
       " 'agentminrequiredversioncheck',\n",
       " 'api,cisco',\n",
       " 'backup=pper515',\n",
       " 'backup=prom1217',\n",
       " 'bei-fw-01',\n",
       " 'blr-btp-ml-stfp-01',\n",
       " 'blr-btp-ml-stfp-51',\n",
       " 'bper810',\n",
       " 'bw',\n",
       " 'bxsp911',\n",
       " 'cas-fw-01',\n",
       " 'ccx',\n",
       " 'chg0017080',\n",
       " 'chg0017191',\n",
       " 'clif',\n",
       " 'comms',\n",
       " 'criticalservicedown\\r\\r\\n\\r\\r\\n\\r\\r\\n\\r\\r\\n\\r\\r\\n\\r\\r\\n\\r\\r\\n',\n",
       " 'cvd',\n",
       " 'cw_ca_24_asw1_print_1',\n",
       " 'cw_ca_26_asw1_print_1',\n",
       " 'cw_ca_26_asw1_voice_1',\n",
       " 'cw_ca_27_asw1_data_1',\n",
       " 'cw_ca_27_asw1_voice_1',\n",
       " 'cw_ca_28_asw1_print_1',\n",
       " 'cw_ca_28_asw1_voice_1',\n",
       " 'cw_cb_28_asw1_voice_1',\n",
       " 'cw_p1_lg_drtr1',\n",
       " 'cw_p2_b2_drtr1',\n",
       " 'dc21143',\n",
       " 'ddl-fw-17',\n",
       " 'ddl-sim-02',\n",
       " 'dependent',\n",
       " 'directory,cisco',\n",
       " 'egisteredhardwarephones',\n",
       " 'egisteredhardwarephones\\r\\r\\n\\r\\r\\nno',\n",
       " 'eplicate_state',\n",
       " 'eplicate_state\\r\\r\\ndb',\n",
       " 'esc-sim-01',\n",
       " 'eth-s1p1',\n",
       " 'eth1-isp',\n",
       " 'eth1c0',\n",
       " 'eth1c0-isp',\n",
       " 'eth2c0',\n",
       " 'eth2c0-isp',\n",
       " 'eth3',\n",
       " 'ethernet',\n",
       " 'ethernet112',\n",
       " 'fw',\n",
       " 'gi3',\n",
       " 'gigabit',\n",
       " 'hk-twn-cat-dmz-01',\n",
       " 'ifrdoflcc',\n",
       " 'ifrdoflcch',\n",
       " 'ignore*****internet',\n",
       " 'inc0420046',\n",
       " 'inc0433124',\n",
       " 'inc0441165',\n",
       " 'inc0441177',\n",
       " 'inc0444794',\n",
       " 'intel',\n",
       " 'ist-fw-01',\n",
       " 'it-rom-b1-prt1-01',\n",
       " 'jp-test-pc',\n",
       " 'link-to-mad-06-dsw1-01',\n",
       " 'mad-10-asw1-03',\n",
       " 'mad-10-printers-03',\n",
       " 'minrequiredversioncheckmonitor\\r\\r\\n\\r\\r\\ninstance',\n",
       " 'mobile_iron_int_sen',\n",
       " 'muc-fw-01',\n",
       " 'nyc-fw-05',\n",
       " 'paris',\n",
       " 'per-woc-pri',\n",
       " 'per_stg_cmvgw-01',\n",
       " 'per_stg_cmvgw-02',\n",
       " 'phone',\n",
       " 'ppar7584',\n",
       " 'pper404',\n",
       " 'primary=pper404,',\n",
       " 'primary=prom1218,',\n",
       " 'prom1217',\n",
       " 'psin3618',\n",
       " 'registeredhardwarephones',\n",
       " 'replicate_state',\n",
       " 'replicatecount)',\n",
       " 'replicates',\n",
       " 'rev',\n",
       " 'rom-ug-asw1-01',\n",
       " 'rom-ug-asw1-02',\n",
       " 'rom-ug-ilo-01',\n",
       " 'rom-woc-pri',\n",
       " 'rom-woc-sec',\n",
       " 'rtmt,platform',\n",
       " 'serverdown',\n",
       " 'serverdown\\r\\r\\n\\r\\r\\n',\n",
       " 'services,cisco',\n",
       " 'singapore',\n",
       " 'soap',\n",
       " 'team\\r\\r\\n\\r\\r\\n\\r\\r\\n\\r\\r\\n',\n",
       " 'time\\r\\r\\n\\r\\r\\ntomcat',\n",
       " 'tomcat)',\n",
       " 'tomcat)\\\\%',\n",
       " 'ucs',\n",
       " 'uk-ddl-nsx-dswp-51',\n",
       " 'umber',\n",
       " 'unified',\n",
       " 'usage',\n",
       " 'utilization_cc',\n",
       " 'vlan1838',\n",
       " 'vlan1842',\n",
       " 'vlan1846',\n",
       " 'vlan744',\n",
       " 'vlan842',\n",
       " 'vlan844',\n",
       " 'vlan846',\n",
       " 'vlan847',\n",
       " 'war-woc-pri',\n",
       " 'war-woc-se',\n",
       " 'was-sanmgt-01',\n",
       " 'webapp,cisco',\n",
       " 'webservices,cisco',\n",
       " 'yourdomain',\n",
       " '{e7231976-6f2a-ea53-cf5a-33c3c35ba156}\\r\\r\\n\\r\\r\\nmetaannegm'}"
      ]
     },
     "execution_count": 786,
     "metadata": {},
     "output_type": "execute_result"
    }
   ],
   "source": [
    "train_will = train[train.is_ip==1]\n",
    "train_not_will = train[train.is_ip<>1]\n",
    "all_will_string = set(train_will.processed_desc.str.cat(sep=' ').split(' '))\n",
    "all_not_will_string = set(train_not_will.processed_desc.str.cat(sep=' ').split(' '))\n",
    "unq_word = all_will_string - all_not_will_string\n",
    "unq_word"
   ]
  },
  {
   "cell_type": "code",
   "execution_count": null,
   "metadata": {
    "collapsed": false
   },
   "outputs": [],
   "source": [
    "train[train.StringToExtract=='hkg-ev-14']"
   ]
  },
  {
   "cell_type": "code",
   "execution_count": null,
   "metadata": {
    "collapsed": false
   },
   "outputs": [],
   "source": [
    "def find_internal(row):\n",
    "    will_index1 = row.description.find('reenter')\n",
    "    #will_index2 = row.description.find('alert on event id 22')\n",
    "    #will_index2 = row.description.find(' 60% ')\n",
    "    will_index2 = row.description.find(' dns ')\n",
    "    \n",
    "    #if((will_index1<>-1) or (will_index2<>-1) or (will_index3<>-1)):\n",
    "    if((will_index1<>-1) & (will_index2<>-1)):\n",
    "    #if((will_index1<>-1)):\n",
    "        return 'internal'\n",
    "    else:\n",
    "        return row.ddl_1_keywords\n",
    "\n",
    "train['is_internal'] = train.apply(find_internal,axis=1)   \n",
    "test['is_internal'] = test.apply(find_internal,axis=1)"
   ]
  },
  {
   "cell_type": "code",
   "execution_count": null,
   "metadata": {
    "collapsed": false
   },
   "outputs": [],
   "source": [
    "#test[test.is_internal=='internal']"
   ]
  },
  {
   "cell_type": "code",
   "execution_count": null,
   "metadata": {
    "collapsed": true
   },
   "outputs": [],
   "source": []
  },
  {
   "cell_type": "code",
   "execution_count": null,
   "metadata": {
    "collapsed": true
   },
   "outputs": [],
   "source": [
    "final_submission = pd.read_csv('SVM_with_Precedence_v9_will_attached.csv')"
   ]
  },
  {
   "cell_type": "code",
   "execution_count": null,
   "metadata": {
    "collapsed": false
   },
   "outputs": [],
   "source": [
    "final_submission[final_submission['id'].isin(test[test.is_internal=='internal'].id)"
   ]
  },
  {
   "cell_type": "code",
   "execution_count": null,
   "metadata": {
    "collapsed": false
   },
   "outputs": [],
   "source": [
    "final_submission['StringToExtract'] = np.where(final_submission['id'].isin(test[test.is_internal=='internal'].id),'internal',final_submission['StringToExtract'])"
   ]
  },
  {
   "cell_type": "code",
   "execution_count": null,
   "metadata": {
    "collapsed": false
   },
   "outputs": [],
   "source": [
    "final_submission[final_submission.StringToExtract=='internal'].shape"
   ]
  },
  {
   "cell_type": "code",
   "execution_count": null,
   "metadata": {
    "collapsed": true
   },
   "outputs": [],
   "source": [
    "final_submission.to_csv('regex_will_internal_twaeked_1.csv',index=False)"
   ]
  },
  {
   "cell_type": "code",
   "execution_count": 644,
   "metadata": {
    "collapsed": false
   },
   "outputs": [],
   "source": [
    "train_entity_score = pd.DataFrame(100*train.StringToExtract.value_counts()/len(train)).reset_index()\n",
    "test_entity_score = pd.DataFrame(100*test.final_string.value_counts()/len(test)).reset_index()"
   ]
  },
  {
   "cell_type": "code",
   "execution_count": 670,
   "metadata": {
    "collapsed": false
   },
   "outputs": [
    {
     "data": {
      "text/html": [
       "<div>\n",
       "<table border=\"1\" class=\"dataframe\">\n",
       "  <thead>\n",
       "    <tr style=\"text-align: right;\">\n",
       "      <th></th>\n",
       "      <th>index</th>\n",
       "      <th>0_x</th>\n",
       "      <th>0_y</th>\n",
       "      <th>score_diff</th>\n",
       "    </tr>\n",
       "  </thead>\n",
       "  <tbody>\n",
       "    <tr>\n",
       "      <th>0</th>\n",
       "      <td>ddlsql43</td>\n",
       "      <td>38.751269</td>\n",
       "      <td>42.263882</td>\n",
       "      <td>3.512613</td>\n",
       "    </tr>\n",
       "    <tr>\n",
       "      <th>1</th>\n",
       "      <td>esc-ev-11</td>\n",
       "      <td>4.487310</td>\n",
       "      <td>4.893213</td>\n",
       "      <td>0.405903</td>\n",
       "    </tr>\n",
       "    <tr>\n",
       "      <th>2</th>\n",
       "      <td>nycpub</td>\n",
       "      <td>1.167513</td>\n",
       "      <td>1.262458</td>\n",
       "      <td>0.094946</td>\n",
       "    </tr>\n",
       "    <tr>\n",
       "      <th>3</th>\n",
       "      <td>ddlsql37</td>\n",
       "      <td>1.106599</td>\n",
       "      <td>1.196013</td>\n",
       "      <td>0.089414</td>\n",
       "    </tr>\n",
       "    <tr>\n",
       "      <th>4</th>\n",
       "      <td>ddl-mocsrds-01</td>\n",
       "      <td>1.065990</td>\n",
       "      <td>1.153299</td>\n",
       "      <td>0.087309</td>\n",
       "    </tr>\n",
       "  </tbody>\n",
       "</table>\n",
       "</div>"
      ],
      "text/plain": [
       "            index        0_x        0_y  score_diff\n",
       "0        ddlsql43  38.751269  42.263882    3.512613\n",
       "1       esc-ev-11   4.487310   4.893213    0.405903\n",
       "2          nycpub   1.167513   1.262458    0.094946\n",
       "3        ddlsql37   1.106599   1.196013    0.089414\n",
       "4  ddl-mocsrds-01   1.065990   1.153299    0.087309"
      ]
     },
     "execution_count": 670,
     "metadata": {},
     "output_type": "execute_result"
    }
   ],
   "source": [
    "train_test_entity_score =pd.merge(train_entity_score,test_entity_score,how='left',on='index',left_index=True)\n",
    "train_test_entity_score['score_diff'] = abs(train_test_entity_score['0_x']- train_test_entity_score['0_y'])\n",
    "train_test_entity_score.sort(columns=['score_diff'],ascending=False,inplace=True)\n"
   ]
  },
  {
   "cell_type": "code",
   "execution_count": 697,
   "metadata": {
    "collapsed": false
   },
   "outputs": [
    {
     "name": "stdout",
     "output_type": "stream",
     "text": [
      "99\n",
      "(8905, 13)\n",
      "(8905, 13)\n"
     ]
    }
   ],
   "source": [
    "#train_test_entity_score[0:100]\n",
    "\n",
    "not_in_test = list(set(train.StringToExtract.unique()) - set(test.final_string.unique()))\n",
    "print (len(not_in_test))\n",
    "train_not_in_test = train[train.StringToExtract.isin(not_in_test)]\n",
    "#train_not_in_test\n",
    "#print test[test.xgb_String=='ddlsql43'].shape\n",
    "#print test[test.ddl_1_keywords=='ddlsql43'].shape"
   ]
  },
  {
   "cell_type": "code",
   "execution_count": 713,
   "metadata": {
    "collapsed": false
   },
   "outputs": [
    {
     "data": {
      "text/plain": [
       "'ddl-dc-06'"
      ]
     },
     "execution_count": 713,
     "metadata": {},
     "output_type": "execute_result"
    }
   ],
   "source": [
    "errored_pattern_0(\"monitoring failed to run the test-mrsteahhl cmdlet. an active directory error 0x51 occurred when trying to check the suitability of server ddl-dc-06.internal.ecnahcdroffilc.net.\")"
   ]
  },
  {
   "cell_type": "code",
   "execution_count": null,
   "metadata": {
    "collapsed": true
   },
   "outputs": [],
   "source": [
    "## chk id 87,124,2707,2856,3266,8242,16109\n",
    "## 13071,14683,14981,5957,14683,14981,16109"
   ]
  },
  {
   "cell_type": "code",
   "execution_count": 720,
   "metadata": {
    "collapsed": false
   },
   "outputs": [
    {
     "data": {
      "text/plain": [
       "(203, 13)"
      ]
     },
     "execution_count": 720,
     "metadata": {},
     "output_type": "execute_result"
    }
   ],
   "source": [
    "mismatch.shape"
   ]
  },
  {
   "cell_type": "code",
   "execution_count": 748,
   "metadata": {
    "collapsed": false
   },
   "outputs": [
    {
     "data": {
      "text/plain": [
       "(32, 13)"
      ]
     },
     "execution_count": 748,
     "metadata": {},
     "output_type": "execute_result"
    }
   ],
   "source": [
    "to_be_checked =test[test['id'].isin([87,178,1559,3935,4131,4142,4738,5743,5898,6173,8168,\n",
    "                                    8722,8726,10914,10930,12315,13789,14077,17429,19132,\n",
    "                                    19287,20010,21140,21473,21903,21972,22879,23554,23931,\n",
    "                                    25332,27702,30058,])]\n",
    "to_be_checked"
   ]
  },
  {
   "cell_type": "code",
   "execution_count": 755,
   "metadata": {
    "collapsed": false
   },
   "outputs": [
    {
     "data": {
      "text/plain": [
       "35.818999999999505"
      ]
     },
     "execution_count": 755,
     "metadata": {},
     "output_type": "execute_result"
    }
   ],
   "source": [
    "test.shape[0] -0.9983*test.shape[0]\n"
   ]
  },
  {
   "cell_type": "code",
   "execution_count": 554,
   "metadata": {
    "collapsed": false
   },
   "outputs": [],
   "source": [
    "#to_be_checked[['id','description','ddl_1_keywords','xgb_String','final_string']]"
   ]
  },
  {
   "cell_type": "code",
   "execution_count": 193,
   "metadata": {
    "collapsed": false
   },
   "outputs": [],
   "source": [
    "#train[train.StringToExtract=='atlas']"
   ]
  },
  {
   "cell_type": "code",
   "execution_count": 746,
   "metadata": {
    "collapsed": false
   },
   "outputs": [],
   "source": [
    "#to_be_checked[['description','ddl_1_keywords','xgb_String','final_string']]"
   ]
  },
  {
   "cell_type": "code",
   "execution_count": 758,
   "metadata": {
    "collapsed": false
   },
   "outputs": [],
   "source": [
    "#mismatch = test[(test.ddl_1_keywords<>test.xgb_String) & (test.is_ip==0)]\n",
    "#mismatch[['id','description','ddl_1_keywords','xgb_String','final_string']]"
   ]
  },
  {
   "cell_type": "code",
   "execution_count": 759,
   "metadata": {
    "collapsed": false
   },
   "outputs": [],
   "source": [
    "#train[train.StringToExtract=='fra-dc-03'].head()"
   ]
  }
 ],
 "metadata": {
  "anaconda-cloud": {},
  "kernelspec": {
   "display_name": "Python [default]",
   "language": "python",
   "name": "python2"
  },
  "language_info": {
   "codemirror_mode": {
    "name": "ipython",
    "version": 2
   },
   "file_extension": ".py",
   "mimetype": "text/x-python",
   "name": "python",
   "nbconvert_exporter": "python",
   "pygments_lexer": "ipython2",
   "version": "2.7.12"
  }
 },
 "nbformat": 4,
 "nbformat_minor": 1
}
